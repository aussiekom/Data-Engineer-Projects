{
  "nbformat": 4,
  "nbformat_minor": 0,
  "metadata": {
    "colab": {
      "provenance": []
    },
    "kernelspec": {
      "name": "python3",
      "display_name": "Python 3"
    },
    "language_info": {
      "name": "python"
    }
  },
  "cells": [
    {
      "cell_type": "markdown",
      "source": [
        "**Step one:** collect data using web scraping and API.\n",
        "\n",
        "Identified the website with the data that about the population of the cities where Gans is active in order to see how many people are on target with the company, and then collected data for Barcelona, Paris, and Berlin.\n",
        "\n",
        "The most popular and available [website](https://ugeo.urbistat.com/AdminStat/en/es/demografia/eta/barcelona/8/3)."
      ],
      "metadata": {
        "id": "cin4B00y5VHS"
      }
    },
    {
      "cell_type": "code",
      "execution_count": 1,
      "metadata": {
        "id": "Iqp_PLPs5Gmn"
      },
      "outputs": [],
      "source": [
        "from bs4 import BeautifulSoup\n",
        "import requests\n",
        "import pandas as pd"
      ]
    },
    {
      "cell_type": "code",
      "source": [
        "url = \"https://ugeo.urbistat.com/AdminStat/en/es/demografia/eta/barcelona/8/3\"\n",
        "response = requests.get(url)\n",
        "response.status_code\n",
        "soup = BeautifulSoup(response.content, \"html.parser\")"
      ],
      "metadata": {
        "id": "oa5Vm2ET6avX"
      },
      "execution_count": 2,
      "outputs": []
    },
    {
      "cell_type": "markdown",
      "source": [
        "I selected the div and the classes to be sure to get only these pieces of information."
      ],
      "metadata": {
        "id": "nqO3gIXf6nn0"
      }
    },
    {
      "cell_type": "code",
      "source": [
        "# Find the HTML table with the class \"table_result_light\" and store it in 'table'\n",
        "table = soup.select_one(\"table.table_result_light\")\n",
        "\n",
        "age_range = []\n",
        "\n",
        "for i in range(len(table.select('td.table_label'))):\n",
        "    # Append the text content of each td element to the 'age_range' list\n",
        "    age_range.append(table.select('td.table_label')[i].get_text())\n",
        "\n",
        "# Create a DataFrame from the 'age_range' list with column name 'age_range'\n",
        "age_range = pd.DataFrame({\"age_range\": age_range})\n",
        "\n",
        "# Clean the 'age_range' column by removing unwanted characters using regex\n",
        "age_range.replace(to_replace = [r\"\\\\t|\\\\n|\\\\r\", \"\\t|\\n|\\r\"],\n",
        "                  value = [\"\",\"\"],\n",
        "                  regex=True,\n",
        "                  inplace=True)\n",
        "values=[]\n",
        "\n",
        "for i in range(len(table.select(\"td\"))):\n",
        "    values.append(table.select(\"td\")[i].get_text())\n",
        "\n",
        "# Create a DataFrame from the 'values' list with column name 'value'\n",
        "values = pd.DataFrame({\"value\":values})\n",
        "\n",
        "# Clean the 'value' column by removing unwanted characters using regex\n",
        "values.replace(to_replace = [r\"\\\\t|\\\\n|\\\\r\", \"\\t|\\n|\\r\"],\n",
        "               value=[\"\",\"\"],\n",
        "               regex=True,\n",
        "               inplace=True)\n",
        "\n",
        "# Further clean the 'value' column by removing commas and empty values\n",
        "values.replace(to_replace=[\",\", \"\"],\n",
        "               value=[\"\",\"\"],\n",
        "               regex=True,\n",
        "               inplace=True)\n",
        "\n",
        "# Extract specific rows from the 'values' DataFrame to get total population data\n",
        "# value = the number of people for each specific range\n",
        "tot_pop = values.loc[[9,16,23,30,37,44,51,58,65,72,79]]\n",
        "\n",
        "# Add a new column 'perc' to 'tot_pop' DataFrame with corresponding values\n",
        "# perc = the percentage in relation to the total population,\n",
        "tot_pop['perc'] = [2,3,6,6,7,12,16,16,12,10,9]\n",
        "\n",
        "# Add a new column 'city' to 'tot_pop' DataFrame with the value 'barcelona'\n",
        "tot_pop['city']='barcelona'\n",
        "\n",
        "# Reset the index of 'tot_pop' DataFrame and drop the old index\n",
        "tot_pop = tot_pop.reset_index()\n",
        "tot_pop = tot_pop.drop('index', axis = 1)\n",
        "\n",
        "# Combine 'age_range' and 'tot_pop' DataFrames with an inner join on common keys\n",
        "population_barcelona = age_range.join(tot_pop, how=\"inner\")\n",
        "\n",
        "# Add a new column 'city_iso' to 'population_barcelona' DataFrame with the value 'barcelona_ES'\n",
        "population_barcelona['city_iso'] = 'barcelona_ES'"
      ],
      "metadata": {
        "id": "2SolEdJN6niY"
      },
      "execution_count": 3,
      "outputs": []
    },
    {
      "cell_type": "code",
      "source": [
        "population_barcelona.head()"
      ],
      "metadata": {
        "colab": {
          "base_uri": "https://localhost:8080/",
          "height": 206
        },
        "id": "8LtKmggZ_cua",
        "outputId": "a332d647-9bb4-43f7-ab48-efe0d98e1086"
      },
      "execution_count": 4,
      "outputs": [
        {
          "output_type": "execute_result",
          "data": {
            "text/plain": [
              "     age_range   value  perc       city      city_iso\n",
              "0    0 - 2 age  127628     2  barcelona  barcelona_ES\n",
              "1    3 - 5 age  150542     3  barcelona  barcelona_ES\n",
              "2   6 - 11 age  344084     6  barcelona  barcelona_ES\n",
              "3  12 - 17 age  375112     6  barcelona  barcelona_ES\n",
              "4  18 - 24 age  421289     7  barcelona  barcelona_ES"
            ],
            "text/html": [
              "\n",
              "  <div id=\"df-bc8cb60a-79bb-45b5-8f6a-bbf349c11445\" class=\"colab-df-container\">\n",
              "    <div>\n",
              "<style scoped>\n",
              "    .dataframe tbody tr th:only-of-type {\n",
              "        vertical-align: middle;\n",
              "    }\n",
              "\n",
              "    .dataframe tbody tr th {\n",
              "        vertical-align: top;\n",
              "    }\n",
              "\n",
              "    .dataframe thead th {\n",
              "        text-align: right;\n",
              "    }\n",
              "</style>\n",
              "<table border=\"1\" class=\"dataframe\">\n",
              "  <thead>\n",
              "    <tr style=\"text-align: right;\">\n",
              "      <th></th>\n",
              "      <th>age_range</th>\n",
              "      <th>value</th>\n",
              "      <th>perc</th>\n",
              "      <th>city</th>\n",
              "      <th>city_iso</th>\n",
              "    </tr>\n",
              "  </thead>\n",
              "  <tbody>\n",
              "    <tr>\n",
              "      <th>0</th>\n",
              "      <td>0 - 2 age</td>\n",
              "      <td>127628</td>\n",
              "      <td>2</td>\n",
              "      <td>barcelona</td>\n",
              "      <td>barcelona_ES</td>\n",
              "    </tr>\n",
              "    <tr>\n",
              "      <th>1</th>\n",
              "      <td>3 - 5 age</td>\n",
              "      <td>150542</td>\n",
              "      <td>3</td>\n",
              "      <td>barcelona</td>\n",
              "      <td>barcelona_ES</td>\n",
              "    </tr>\n",
              "    <tr>\n",
              "      <th>2</th>\n",
              "      <td>6 - 11 age</td>\n",
              "      <td>344084</td>\n",
              "      <td>6</td>\n",
              "      <td>barcelona</td>\n",
              "      <td>barcelona_ES</td>\n",
              "    </tr>\n",
              "    <tr>\n",
              "      <th>3</th>\n",
              "      <td>12 - 17 age</td>\n",
              "      <td>375112</td>\n",
              "      <td>6</td>\n",
              "      <td>barcelona</td>\n",
              "      <td>barcelona_ES</td>\n",
              "    </tr>\n",
              "    <tr>\n",
              "      <th>4</th>\n",
              "      <td>18 - 24 age</td>\n",
              "      <td>421289</td>\n",
              "      <td>7</td>\n",
              "      <td>barcelona</td>\n",
              "      <td>barcelona_ES</td>\n",
              "    </tr>\n",
              "  </tbody>\n",
              "</table>\n",
              "</div>\n",
              "    <div class=\"colab-df-buttons\">\n",
              "\n",
              "  <div class=\"colab-df-container\">\n",
              "    <button class=\"colab-df-convert\" onclick=\"convertToInteractive('df-bc8cb60a-79bb-45b5-8f6a-bbf349c11445')\"\n",
              "            title=\"Convert this dataframe to an interactive table.\"\n",
              "            style=\"display:none;\">\n",
              "\n",
              "  <svg xmlns=\"http://www.w3.org/2000/svg\" height=\"24px\" viewBox=\"0 -960 960 960\">\n",
              "    <path d=\"M120-120v-720h720v720H120Zm60-500h600v-160H180v160Zm220 220h160v-160H400v160Zm0 220h160v-160H400v160ZM180-400h160v-160H180v160Zm440 0h160v-160H620v160ZM180-180h160v-160H180v160Zm440 0h160v-160H620v160Z\"/>\n",
              "  </svg>\n",
              "    </button>\n",
              "\n",
              "  <style>\n",
              "    .colab-df-container {\n",
              "      display:flex;\n",
              "      gap: 12px;\n",
              "    }\n",
              "\n",
              "    .colab-df-convert {\n",
              "      background-color: #E8F0FE;\n",
              "      border: none;\n",
              "      border-radius: 50%;\n",
              "      cursor: pointer;\n",
              "      display: none;\n",
              "      fill: #1967D2;\n",
              "      height: 32px;\n",
              "      padding: 0 0 0 0;\n",
              "      width: 32px;\n",
              "    }\n",
              "\n",
              "    .colab-df-convert:hover {\n",
              "      background-color: #E2EBFA;\n",
              "      box-shadow: 0px 1px 2px rgba(60, 64, 67, 0.3), 0px 1px 3px 1px rgba(60, 64, 67, 0.15);\n",
              "      fill: #174EA6;\n",
              "    }\n",
              "\n",
              "    .colab-df-buttons div {\n",
              "      margin-bottom: 4px;\n",
              "    }\n",
              "\n",
              "    [theme=dark] .colab-df-convert {\n",
              "      background-color: #3B4455;\n",
              "      fill: #D2E3FC;\n",
              "    }\n",
              "\n",
              "    [theme=dark] .colab-df-convert:hover {\n",
              "      background-color: #434B5C;\n",
              "      box-shadow: 0px 1px 3px 1px rgba(0, 0, 0, 0.15);\n",
              "      filter: drop-shadow(0px 1px 2px rgba(0, 0, 0, 0.3));\n",
              "      fill: #FFFFFF;\n",
              "    }\n",
              "  </style>\n",
              "\n",
              "    <script>\n",
              "      const buttonEl =\n",
              "        document.querySelector('#df-bc8cb60a-79bb-45b5-8f6a-bbf349c11445 button.colab-df-convert');\n",
              "      buttonEl.style.display =\n",
              "        google.colab.kernel.accessAllowed ? 'block' : 'none';\n",
              "\n",
              "      async function convertToInteractive(key) {\n",
              "        const element = document.querySelector('#df-bc8cb60a-79bb-45b5-8f6a-bbf349c11445');\n",
              "        const dataTable =\n",
              "          await google.colab.kernel.invokeFunction('convertToInteractive',\n",
              "                                                    [key], {});\n",
              "        if (!dataTable) return;\n",
              "\n",
              "        const docLinkHtml = 'Like what you see? Visit the ' +\n",
              "          '<a target=\"_blank\" href=https://colab.research.google.com/notebooks/data_table.ipynb>data table notebook</a>'\n",
              "          + ' to learn more about interactive tables.';\n",
              "        element.innerHTML = '';\n",
              "        dataTable['output_type'] = 'display_data';\n",
              "        await google.colab.output.renderOutput(dataTable, element);\n",
              "        const docLink = document.createElement('div');\n",
              "        docLink.innerHTML = docLinkHtml;\n",
              "        element.appendChild(docLink);\n",
              "      }\n",
              "    </script>\n",
              "  </div>\n",
              "\n",
              "\n",
              "<div id=\"df-11bf84d4-9106-43a9-8ac1-1c6beb3a14e0\">\n",
              "  <button class=\"colab-df-quickchart\" onclick=\"quickchart('df-11bf84d4-9106-43a9-8ac1-1c6beb3a14e0')\"\n",
              "            title=\"Suggest charts.\"\n",
              "            style=\"display:none;\">\n",
              "\n",
              "<svg xmlns=\"http://www.w3.org/2000/svg\" height=\"24px\"viewBox=\"0 0 24 24\"\n",
              "     width=\"24px\">\n",
              "    <g>\n",
              "        <path d=\"M19 3H5c-1.1 0-2 .9-2 2v14c0 1.1.9 2 2 2h14c1.1 0 2-.9 2-2V5c0-1.1-.9-2-2-2zM9 17H7v-7h2v7zm4 0h-2V7h2v10zm4 0h-2v-4h2v4z\"/>\n",
              "    </g>\n",
              "</svg>\n",
              "  </button>\n",
              "\n",
              "<style>\n",
              "  .colab-df-quickchart {\n",
              "      --bg-color: #E8F0FE;\n",
              "      --fill-color: #1967D2;\n",
              "      --hover-bg-color: #E2EBFA;\n",
              "      --hover-fill-color: #174EA6;\n",
              "      --disabled-fill-color: #AAA;\n",
              "      --disabled-bg-color: #DDD;\n",
              "  }\n",
              "\n",
              "  [theme=dark] .colab-df-quickchart {\n",
              "      --bg-color: #3B4455;\n",
              "      --fill-color: #D2E3FC;\n",
              "      --hover-bg-color: #434B5C;\n",
              "      --hover-fill-color: #FFFFFF;\n",
              "      --disabled-bg-color: #3B4455;\n",
              "      --disabled-fill-color: #666;\n",
              "  }\n",
              "\n",
              "  .colab-df-quickchart {\n",
              "    background-color: var(--bg-color);\n",
              "    border: none;\n",
              "    border-radius: 50%;\n",
              "    cursor: pointer;\n",
              "    display: none;\n",
              "    fill: var(--fill-color);\n",
              "    height: 32px;\n",
              "    padding: 0;\n",
              "    width: 32px;\n",
              "  }\n",
              "\n",
              "  .colab-df-quickchart:hover {\n",
              "    background-color: var(--hover-bg-color);\n",
              "    box-shadow: 0 1px 2px rgba(60, 64, 67, 0.3), 0 1px 3px 1px rgba(60, 64, 67, 0.15);\n",
              "    fill: var(--button-hover-fill-color);\n",
              "  }\n",
              "\n",
              "  .colab-df-quickchart-complete:disabled,\n",
              "  .colab-df-quickchart-complete:disabled:hover {\n",
              "    background-color: var(--disabled-bg-color);\n",
              "    fill: var(--disabled-fill-color);\n",
              "    box-shadow: none;\n",
              "  }\n",
              "\n",
              "  .colab-df-spinner {\n",
              "    border: 2px solid var(--fill-color);\n",
              "    border-color: transparent;\n",
              "    border-bottom-color: var(--fill-color);\n",
              "    animation:\n",
              "      spin 1s steps(1) infinite;\n",
              "  }\n",
              "\n",
              "  @keyframes spin {\n",
              "    0% {\n",
              "      border-color: transparent;\n",
              "      border-bottom-color: var(--fill-color);\n",
              "      border-left-color: var(--fill-color);\n",
              "    }\n",
              "    20% {\n",
              "      border-color: transparent;\n",
              "      border-left-color: var(--fill-color);\n",
              "      border-top-color: var(--fill-color);\n",
              "    }\n",
              "    30% {\n",
              "      border-color: transparent;\n",
              "      border-left-color: var(--fill-color);\n",
              "      border-top-color: var(--fill-color);\n",
              "      border-right-color: var(--fill-color);\n",
              "    }\n",
              "    40% {\n",
              "      border-color: transparent;\n",
              "      border-right-color: var(--fill-color);\n",
              "      border-top-color: var(--fill-color);\n",
              "    }\n",
              "    60% {\n",
              "      border-color: transparent;\n",
              "      border-right-color: var(--fill-color);\n",
              "    }\n",
              "    80% {\n",
              "      border-color: transparent;\n",
              "      border-right-color: var(--fill-color);\n",
              "      border-bottom-color: var(--fill-color);\n",
              "    }\n",
              "    90% {\n",
              "      border-color: transparent;\n",
              "      border-bottom-color: var(--fill-color);\n",
              "    }\n",
              "  }\n",
              "</style>\n",
              "\n",
              "  <script>\n",
              "    async function quickchart(key) {\n",
              "      const quickchartButtonEl =\n",
              "        document.querySelector('#' + key + ' button');\n",
              "      quickchartButtonEl.disabled = true;  // To prevent multiple clicks.\n",
              "      quickchartButtonEl.classList.add('colab-df-spinner');\n",
              "      try {\n",
              "        const charts = await google.colab.kernel.invokeFunction(\n",
              "            'suggestCharts', [key], {});\n",
              "      } catch (error) {\n",
              "        console.error('Error during call to suggestCharts:', error);\n",
              "      }\n",
              "      quickchartButtonEl.classList.remove('colab-df-spinner');\n",
              "      quickchartButtonEl.classList.add('colab-df-quickchart-complete');\n",
              "    }\n",
              "    (() => {\n",
              "      let quickchartButtonEl =\n",
              "        document.querySelector('#df-11bf84d4-9106-43a9-8ac1-1c6beb3a14e0 button');\n",
              "      quickchartButtonEl.style.display =\n",
              "        google.colab.kernel.accessAllowed ? 'block' : 'none';\n",
              "    })();\n",
              "  </script>\n",
              "</div>\n",
              "    </div>\n",
              "  </div>\n"
            ]
          },
          "metadata": {},
          "execution_count": 4
        }
      ]
    },
    {
      "cell_type": "markdown",
      "source": [
        "Then repeat the process for Paris\n",
        "\n",
        "\n"
      ],
      "metadata": {
        "id": "zmH8G8Nu_58t"
      }
    },
    {
      "cell_type": "code",
      "source": [
        "url = \"https://ugeo.urbistat.com/AdminStat/en/fr/demografia/eta/paris/75/3\"\n",
        "response = requests.get(url)\n",
        "response.status_code\n",
        "soup = BeautifulSoup(response.content, \"html.parser\")"
      ],
      "metadata": {
        "id": "qqQIYl_uAQN-"
      },
      "execution_count": 7,
      "outputs": []
    },
    {
      "cell_type": "code",
      "source": [
        "# Find the HTML table with the class \"table_result_light\" and store it in 'table'\n",
        "table = soup.select_one(\"table.table_result_light\")\n",
        "\n",
        "age_range = []\n",
        "\n",
        "for i in range(len(table.select('td.table_label'))):\n",
        "    # Append the text content of each td element to the 'age_range' list\n",
        "    age_range.append(table.select('td.table_label')[i].get_text())\n",
        "\n",
        "# Create a DataFrame from the 'age_range' list with column name 'age_range'\n",
        "age_range = pd.DataFrame({\"age_range\": age_range})\n",
        "\n",
        "# Clean the 'age_range' column by removing unwanted characters using regex\n",
        "age_range.replace(to_replace = [r\"\\\\t|\\\\n|\\\\r\", \"\\t|\\n|\\r\"],\n",
        "                  value = [\"\",\"\"],\n",
        "                  regex=True,\n",
        "                  inplace=True)\n",
        "values=[]\n",
        "\n",
        "for i in range(len(table.select(\"td\"))):\n",
        "    values.append(table.select(\"td\")[i].get_text())\n",
        "\n",
        "# Create a DataFrame from the 'values' list with column name 'value'\n",
        "values = pd.DataFrame({\"value\":values})\n",
        "\n",
        "# Clean the 'value' column by removing unwanted characters using regex\n",
        "values.replace(to_replace = [r\"\\\\t|\\\\n|\\\\r\", \"\\t|\\n|\\r\"],\n",
        "               value=[\"\",\"\"],\n",
        "               regex=True,\n",
        "               inplace=True)\n",
        "\n",
        "# Further clean the 'value' column by removing commas and empty values\n",
        "values.replace(to_replace=[\",\", \"\"],\n",
        "               value=[\"\",\"\"],\n",
        "               regex=True,\n",
        "               inplace=True)\n",
        "\n",
        "# Extract specific rows from the 'values' DataFrame to get total population data\n",
        "# value = the number of people for each specific range\n",
        "tot_pop = values.loc[[9,16,23,30,37,44,51,58,65,72,79]]\n",
        "\n",
        "# Add a new column 'perc' to 'tot_pop' DataFrame with corresponding values\n",
        "# perc = the percentage in relation to the total population\n",
        "tot_pop['perc'] = [2,3,6,6,7,12,16,16,12,10,9]\n",
        "\n",
        "# Add a new column 'city' to 'tot_pop' DataFrame with the value 'paris'\n",
        "tot_pop['city']='paris'\n",
        "\n",
        "# Reset the index of 'tot_pop' DataFrame and drop the old index\n",
        "tot_pop = tot_pop.reset_index()\n",
        "tot_pop = tot_pop.drop('index', axis = 1)\n",
        "\n",
        "# Combine 'age_range' and 'tot_pop' DataFrames with an inner join on common keys\n",
        "population_paris = age_range.join(tot_pop, how = \"inner\")\n",
        "\n",
        "# Add a new column 'city_iso' to 'population_paris' DataFrame with the value 'paris_FR'\n",
        "population_paris['city_iso'] = 'paris_FR'"
      ],
      "metadata": {
        "id": "t9h0CgHBAUL4"
      },
      "execution_count": 10,
      "outputs": []
    },
    {
      "cell_type": "code",
      "source": [
        "population_paris.head()"
      ],
      "metadata": {
        "id": "M1FqdrdDBXDE"
      },
      "execution_count": null,
      "outputs": []
    },
    {
      "cell_type": "markdown",
      "source": [
        "And for Berlin"
      ],
      "metadata": {
        "id": "hh52NuRLB1OW"
      }
    },
    {
      "cell_type": "code",
      "source": [
        "url = \"https://ugeo.urbistat.com/AdminStat/en/de/demografia/eta/berlin/11/2\"\n",
        "response = requests.get(url)\n",
        "response.status_code\n",
        "soup = BeautifulSoup(response.content, \"html.parser\")"
      ],
      "metadata": {
        "id": "zyIfpYMdB3Aq"
      },
      "execution_count": 12,
      "outputs": []
    },
    {
      "cell_type": "code",
      "source": [
        "# Find the HTML table with the class \"table_result_light\" and store it in 'table'\n",
        "table = soup.select_one(\"table.table_result_light\")\n",
        "\n",
        "age_range = []\n",
        "\n",
        "for i in range(len(table.select('td.table_label'))):\n",
        "    # Append the text content of each td element to the 'age_range' list\n",
        "    age_range.append(table.select('td.table_label')[i].get_text())\n",
        "\n",
        "# Create a DataFrame from the 'age_range' list with column name 'age_range'\n",
        "age_range = pd.DataFrame({\"age_range\": age_range})\n",
        "\n",
        "# Clean the 'age_range' column by removing unwanted characters using regex\n",
        "age_range.replace(to_replace = [r\"\\\\t|\\\\n|\\\\r\", \"\\t|\\n|\\r\"],\n",
        "                  value = [\"\",\"\"],\n",
        "                  regex=True,\n",
        "                  inplace=True)\n",
        "values=[]\n",
        "\n",
        "for i in range(len(table.select(\"td\"))):\n",
        "    values.append(table.select(\"td\")[i].get_text())\n",
        "\n",
        "# Create a DataFrame from the 'values' list with column name 'value'\n",
        "values = pd.DataFrame({\"value\":values})\n",
        "\n",
        "# Clean the 'value' column by removing unwanted characters using regex\n",
        "values.replace(to_replace = [r\"\\\\t|\\\\n|\\\\r\", \"\\t|\\n|\\r\"],\n",
        "               value=[\"\",\"\"],\n",
        "               regex=True,\n",
        "               inplace=True)\n",
        "\n",
        "# Further clean the 'value' column by removing commas and empty values\n",
        "values.replace(to_replace=[\",\", \"\"],\n",
        "               value=[\"\",\"\"],\n",
        "               regex=True,\n",
        "               inplace=True)\n",
        "\n",
        "# Extract specific rows from the 'values' DataFrame to get total population data\n",
        "# value = the number of people for each specific range\n",
        "tot_pop = values.loc[[9,16,23,30,37,44,51,58,65,72,79]]\n",
        "\n",
        "# Add a new column 'perc' to 'tot_pop' DataFrame with corresponding values\n",
        "# perc = the percentage in relation to the total population,\n",
        "tot_pop['perc'] = [2,3,6,6,7,12,16,16,12,10,9]\n",
        "\n",
        "# Add a new column 'city' to 'tot_pop' DataFrame with the value 'berlin'\n",
        "tot_pop['city'] = 'berlin'\n",
        "\n",
        "# Reset the index of 'tot_pop' DataFrame and drop the old index\n",
        "tot_pop = tot_pop.reset_index()\n",
        "tot_pop = tot_pop.drop('index', axis = 1)\n",
        "\n",
        "# Combine 'age_range' and 'tot_pop' DataFrames with an inner join on common keys\n",
        "population_berlin = age_range.join(tot_pop, how = \"inner\")\n",
        "\n",
        "# Add a new column 'city_iso' to 'population_berlin' DataFrame with the value 'berlin_ES'\n",
        "population_berlin['city_iso'] = 'berlin_DE'"
      ],
      "metadata": {
        "id": "4DBHzjCGB-b7"
      },
      "execution_count": 13,
      "outputs": []
    },
    {
      "cell_type": "code",
      "source": [
        "population_berlin.head()"
      ],
      "metadata": {
        "id": "NHmiIbjvCc43"
      },
      "execution_count": null,
      "outputs": []
    },
    {
      "cell_type": "code",
      "source": [
        "population_cities = population_paris.append([population_berlin,population_barcelona]).reset_index()\n",
        "population_cities = population_cities.drop('index', axis=1)\n",
        "population_cities['value'] = population_cities['value'].astype(int)"
      ],
      "metadata": {
        "id": "IY1xWwDK_fjF"
      },
      "execution_count": null,
      "outputs": []
    },
    {
      "cell_type": "code",
      "source": [
        "population_cities.head(50)"
      ],
      "metadata": {
        "id": "gh5LR590C7R7"
      },
      "execution_count": null,
      "outputs": []
    },
    {
      "cell_type": "markdown",
      "source": [
        "**Data with API**\n",
        "\n",
        "In addition to collecting data using web scraping, we can use the API(Application programming interface) which is a software intermediary that allows two applications to talk to each other.\n",
        "\n",
        "In our case we need data, they give us data. For the project, used two types of APIs: one to check the arrival flights in Berlin, Paris, and Barcelona and one to check the weather for the same cities."
      ],
      "metadata": {
        "id": "UY3HOKYcDEb2"
      }
    },
    {
      "cell_type": "code",
      "source": [
        "from IPython.display import JSON\n",
        "import requests"
      ],
      "metadata": {
        "id": "dJpjk40HDBgn"
      },
      "execution_count": 3,
      "outputs": []
    },
    {
      "cell_type": "markdown",
      "source": [
        "API from the RapidAPI"
      ],
      "metadata": {
        "id": "llK8CIv1Jixq"
      }
    },
    {
      "cell_type": "code",
      "source": [
        "import requests\n",
        "\n",
        "url = \"https://aerodatabox.p.rapidapi.com/airports/icao/EDDB\"\n",
        "\n",
        "querystring = {\n",
        "    \"withLeg\": \"true\",\n",
        "    \"direction\": \"Arrival\",\n",
        "    \"withCancelled\": \"true\",\n",
        "    \"withCodeshared\": \"true\",\n",
        "    \"withCargo\": \"true\",\n",
        "    \"withPrivate\": \"true\",\n",
        "    \"withLocation\": \"true\"\n",
        "}\n",
        "\n",
        "headers = {\n",
        "\t\"X-RapidAPI-Key\": \"0beff9c74fmsh564a8801fa6e375p1c7a7ajsn744762d8242e\",\n",
        "\t\"X-RapidAPI-Host\": \"aerodatabox.p.rapidapi.com\"\n",
        "}\n",
        "\n",
        "response = requests.request(\"GET\", url, headers=headers, params=querystring)\n",
        "print(response.text)\n"
      ],
      "metadata": {
        "colab": {
          "base_uri": "https://localhost:8080/"
        },
        "id": "FCXVVvlWN6bD",
        "outputId": "d2c50446-db1b-41c0-ca91-2ab10213120b"
      },
      "execution_count": 50,
      "outputs": [
        {
          "output_type": "stream",
          "name": "stdout",
          "text": [
            "{\"icao\":\"EDDB\",\"iata\":\"BER\",\"shortName\":\"Brandenburg\",\"fullName\":\"Berlin Brandenburg\",\"municipalityName\":\"Berlin\",\"location\":{\"lat\":52.35139,\"lon\":13.493889},\"elevation\":{\"meter\":47.85,\"km\":0.05,\"mile\":0.03,\"nm\":0.03,\"feet\":157.0},\"country\":{\"code\":\"DE\",\"name\":\"Germany\"},\"continent\":{\"code\":\"EU\",\"name\":\"Europe\"},\"timeZone\":\"Europe/Berlin\",\"urls\":{\"webSite\":\"https://ber.berlin-airport.de/\",\"wikipedia\":\"https://en.wikipedia.org/wiki/Berlin_Brandenburg_Airport\",\"twitter\":\"http://twitter.com/berlinairport\",\"googleMaps\":\"https://www.google.com/maps/@52.351389,13.493889,14z\",\"flightRadar\":\"https://www.flightradar24.com/52.35,13.49/14\"}}\n"
          ]
        }
      ]
    },
    {
      "cell_type": "code",
      "source": [
        "JSON(response.json())\n",
        "flight_data = response.json()\n"
      ],
      "metadata": {
        "id": "gZ91yyECSQob"
      },
      "execution_count": null,
      "outputs": []
    },
    {
      "cell_type": "code",
      "source": [
        "#identify airport name\n",
        "flight_data['arrivals'][0]['departure']['airport']['name']\n",
        "# identify arrival time\n",
        "flight_data['arrivals'][0]['arrival']['scheduledTimeLocal']\n",
        "#identify airline name\n",
        "flight_data['arrivals'][0]['airline']['name']"
      ],
      "metadata": {
        "id": "BflMf0eYSV6_"
      },
      "execution_count": null,
      "outputs": []
    },
    {
      "cell_type": "code",
      "source": [
        "departure=[]\n",
        "arrival_time=[]\n",
        "airline=[]\n",
        "for i in range(len(flight_data['arrivals'])):\n",
        "    departure.append(flight_data['arrivals'][i]['departure']['airport']['name'])\n",
        "    arrival_time.append(flight_data['arrivals'][i]['arrival']['scheduledTimeLocal'][10:-6])\n",
        "    airline.append(flight_data['arrivals'][i]['airline']['name'])\n",
        "#creation dataframe\n",
        "flight_data_berlin=pd.DataFrame({'city':'berlin',\n",
        "                                 'airport_departure':departure,\n",
        "                                 'airline':airline,\n",
        "                                 'arrival_time':arrival_time,\n",
        "                                 'city_iso':'berlin_DE'})"
      ],
      "metadata": {
        "id": "A-rS5OXT8laI"
      },
      "execution_count": null,
      "outputs": []
    },
    {
      "cell_type": "markdown",
      "source": [
        "For weather"
      ],
      "metadata": {
        "id": "L515d4bZS9Bi"
      }
    },
    {
      "cell_type": "code",
      "source": [
        "import requests\n",
        "\n",
        "url = \"https://weatherapi-com.p.rapidapi.com/history.json\"\n",
        "\n",
        "querystring = {\"q\":\"berlin,de,london,uk,barcellona,sp\",\"dt\":\"2023-09-06\",\"lang\":\"en\",\"end_dt\":\"2023-09-12\"}\n",
        "\n",
        "headers = {\n",
        "\t\"X-RapidAPI-Key\": \"0beff9c74fmsh564a8801fa6e375p1c7a7ajsn744762d8242e\",\n",
        "\t\"X-RapidAPI-Host\": \"weatherapi-com.p.rapidapi.com\"\n",
        "}\n",
        "\n",
        "response = requests.request(\"GET\", url, headers=headers, params=querystring)\n",
        "\n",
        "print(response.text)"
      ],
      "metadata": {
        "colab": {
          "base_uri": "https://localhost:8080/"
        },
        "id": "etJBb9922mAl",
        "outputId": "15812944-cfe8-44fb-ffd8-7c365dccc6b0"
      },
      "execution_count": 1,
      "outputs": [
        {
          "output_type": "stream",
          "name": "stdout",
          "text": [
            "{\"location\":{\"name\":\"Berlin\",\"region\":\"Berlin\",\"country\":\"Germany\",\"lat\":52.52,\"lon\":13.4,\"tz_id\":\"Europe/Berlin\",\"localtime_epoch\":1694093940,\"localtime\":\"2023-09-07 15:39\"},\"forecast\":{\"forecastday\":[{\"date\":\"2023-09-06\",\"date_epoch\":1693958400,\"day\":{\"maxtemp_c\":29.4,\"maxtemp_f\":84.9,\"mintemp_c\":17.4,\"mintemp_f\":63.3,\"avgtemp_c\":23.1,\"avgtemp_f\":73.6,\"maxwind_mph\":6.9,\"maxwind_kph\":11.2,\"totalprecip_mm\":0.0,\"totalprecip_in\":0.0,\"avgvis_km\":10.0,\"avgvis_miles\":6.0,\"avghumidity\":46.0,\"condition\":{\"text\":\"Sunny\",\"icon\":\"//cdn.weatherapi.com/weather/64x64/day/113.png\",\"code\":1000},\"uv\":7.0},\"astro\":{\"sunrise\":\"06:25 AM\",\"sunset\":\"07:44 PM\",\"moonrise\":\"10:10 PM\",\"moonset\":\"03:04 PM\",\"moon_phase\":\"Last Quarter\",\"moon_illumination\":\"60\"},\"hour\":[{\"time_epoch\":1693951200,\"time\":\"2023-09-06 00:00\",\"temp_c\":19.7,\"temp_f\":67.5,\"is_day\":0,\"condition\":{\"text\":\"Partly cloudy\",\"icon\":\"//cdn.weatherapi.com/weather/64x64/night/116.png\",\"code\":1003},\"wind_mph\":4.0,\"wind_kph\":6.5,\"wind_degree\":171,\"wind_dir\":\"S\",\"pressure_mb\":1023.0,\"pressure_in\":30.2,\"precip_mm\":0.0,\"precip_in\":0.0,\"humidity\":58,\"cloud\":33,\"feelslike_c\":19.7,\"feelslike_f\":67.5,\"windchill_c\":19.7,\"windchill_f\":67.5,\"heatindex_c\":19.7,\"heatindex_f\":67.5,\"dewpoint_c\":11.3,\"dewpoint_f\":52.3,\"will_it_rain\":0,\"chance_of_rain\":0,\"will_it_snow\":0,\"chance_of_snow\":0,\"vis_km\":10.0,\"vis_miles\":6.0,\"gust_mph\":8.3,\"gust_kph\":13.3,\"uv\":1.0},{\"time_epoch\":1693954800,\"time\":\"2023-09-06 01:00\",\"temp_c\":19.2,\"temp_f\":66.6,\"is_day\":0,\"condition\":{\"text\":\"Clear\",\"icon\":\"//cdn.weatherapi.com/weather/64x64/night/113.png\",\"code\":1000},\"wind_mph\":4.0,\"wind_kph\":6.5,\"wind_degree\":163,\"wind_dir\":\"SSE\",\"pressure_mb\":1022.0,\"pressure_in\":30.19,\"precip_mm\":0.0,\"precip_in\":0.0,\"humidity\":59,\"cloud\":6,\"feelslike_c\":19.2,\"feelslike_f\":66.6,\"windchill_c\":19.2,\"windchill_f\":66.6,\"heatindex_c\":19.2,\"heatindex_f\":66.6,\"dewpoint_c\":11.1,\"dewpoint_f\":52.0,\"will_it_rain\":0,\"chance_of_rain\":0,\"will_it_snow\":0,\"chance_of_snow\":0,\"vis_km\":10.0,\"vis_miles\":6.0,\"gust_mph\":8.5,\"gust_kph\":13.7,\"uv\":1.0},{\"time_epoch\":1693958400,\"time\":\"2023-09-06 02:00\",\"temp_c\":18.8,\"temp_f\":65.8,\"is_day\":0,\"condition\":{\"text\":\"Clear\",\"icon\":\"//cdn.weatherapi.com/weather/64x64/night/113.png\",\"code\":1000},\"wind_mph\":3.8,\"wind_kph\":6.1,\"wind_degree\":154,\"wind_dir\":\"SSE\",\"pressure_mb\":1022.0,\"pressure_in\":30.19,\"precip_mm\":0.0,\"precip_in\":0.0,\"humidity\":60,\"cloud\":0,\"feelslike_c\":18.8,\"feelslike_f\":65.8,\"windchill_c\":18.8,\"windchill_f\":65.8,\"heatindex_c\":18.8,\"heatindex_f\":65.8,\"dewpoint_c\":10.9,\"dewpoint_f\":51.6,\"will_it_rain\":0,\"chance_of_rain\":0,\"will_it_snow\":0,\"chance_of_snow\":0,\"vis_km\":10.0,\"vis_miles\":6.0,\"gust_mph\":8.1,\"gust_kph\":13.0,\"uv\":1.0},{\"time_epoch\":1693962000,\"time\":\"2023-09-06 03:00\",\"temp_c\":18.4,\"temp_f\":65.1,\"is_day\":0,\"condition\":{\"text\":\"Clear\",\"icon\":\"//cdn.weatherapi.com/weather/64x64/night/113.png\",\"code\":1000},\"wind_mph\":3.8,\"wind_kph\":6.1,\"wind_degree\":146,\"wind_dir\":\"SSE\",\"pressure_mb\":1022.0,\"pressure_in\":30.18,\"precip_mm\":0.0,\"precip_in\":0.0,\"humidity\":61,\"cloud\":0,\"feelslike_c\":18.4,\"feelslike_f\":65.1,\"windchill_c\":18.4,\"windchill_f\":65.1,\"heatindex_c\":18.4,\"heatindex_f\":65.1,\"dewpoint_c\":10.6,\"dewpoint_f\":51.1,\"will_it_rain\":0,\"chance_of_rain\":0,\"will_it_snow\":0,\"chance_of_snow\":0,\"vis_km\":10.0,\"vis_miles\":6.0,\"gust_mph\":8.1,\"gust_kph\":13.0,\"uv\":1.0},{\"time_epoch\":1693965600,\"time\":\"2023-09-06 04:00\",\"temp_c\":17.9,\"temp_f\":64.2,\"is_day\":0,\"condition\":{\"text\":\"Clear\",\"icon\":\"//cdn.weatherapi.com/weather/64x64/night/113.png\",\"code\":1000},\"wind_mph\":3.8,\"wind_kph\":6.1,\"wind_degree\":144,\"wind_dir\":\"SE\",\"pressure_mb\":1022.0,\"pressure_in\":30.18,\"precip_mm\":0.0,\"precip_in\":0.0,\"humidity\":61,\"cloud\":0,\"feelslike_c\":17.9,\"feelslike_f\":64.2,\"windchill_c\":17.9,\"windchill_f\":64.2,\"heatindex_c\":17.9,\"heatindex_f\":64.2,\"dewpoint_c\":10.3,\"dewpoint_f\":50.5,\"will_it_rain\":0,\"chance_of_rain\":0,\"will_it_snow\":0,\"chance_of_snow\":0,\"vis_km\":10.0,\"vis_miles\":6.0,\"gust_mph\":8.1,\"gust_kph\":13.0,\"uv\":1.0},{\"time_epoch\":1693969200,\"time\":\"2023-09-06 05:00\",\"temp_c\":17.5,\"temp_f\":63.5,\"is_day\":0,\"condition\":{\"text\":\"Clear\",\"icon\":\"//cdn.weatherapi.com/weather/64x64/night/113.png\",\"code\":1000},\"wind_mph\":4.3,\"wind_kph\":6.8,\"wind_degree\":132,\"wind_dir\":\"SE\",\"pressure_mb\":1022.0,\"pressure_in\":30.19,\"precip_mm\":0.0,\"precip_in\":0.0,\"humidity\":62,\"cloud\":0,\"feelslike_c\":17.5,\"feelslike_f\":63.5,\"windchill_c\":17.5,\"windchill_f\":63.5,\"heatindex_c\":17.5,\"heatindex_f\":63.5,\"dewpoint_c\":10.1,\"dewpoint_f\":50.2,\"will_it_rain\":0,\"chance_of_rain\":0,\"will_it_snow\":0,\"chance_of_snow\":0,\"vis_km\":10.0,\"vis_miles\":6.0,\"gust_mph\":8.9,\"gust_kph\":14.4,\"uv\":1.0},{\"time_epoch\":1693972800,\"time\":\"2023-09-06 06:00\",\"temp_c\":17.4,\"temp_f\":63.3,\"is_day\":0,\"condition\":{\"text\":\"Clear\",\"icon\":\"//cdn.weatherapi.com/weather/64x64/night/113.png\",\"code\":1000},\"wind_mph\":4.3,\"wind_kph\":6.8,\"wind_degree\":136,\"wind_dir\":\"SE\",\"pressure_mb\":1023.0,\"pressure_in\":30.19,\"precip_mm\":0.0,\"precip_in\":0.0,\"humidity\":62,\"cloud\":0,\"feelslike_c\":17.4,\"feelslike_f\":63.3,\"windchill_c\":17.4,\"windchill_f\":63.3,\"heatindex_c\":17.4,\"heatindex_f\":63.3,\"dewpoint_c\":10.0,\"dewpoint_f\":50.0,\"will_it_rain\":0,\"chance_of_rain\":0,\"will_it_snow\":0,\"chance_of_snow\":0,\"vis_km\":10.0,\"vis_miles\":6.0,\"gust_mph\":8.5,\"gust_kph\":13.7,\"uv\":1.0},{\"time_epoch\":1693976400,\"time\":\"2023-09-06 07:00\",\"temp_c\":18.8,\"temp_f\":65.8,\"is_day\":1,\"condition\":{\"text\":\"Sunny\",\"icon\":\"//cdn.weatherapi.com/weather/64x64/day/113.png\",\"code\":1000},\"wind_mph\":4.3,\"wind_kph\":6.8,\"wind_degree\":144,\"wind_dir\":\"SE\",\"pressure_mb\":1023.0,\"pressure_in\":30.21,\"precip_mm\":0.0,\"precip_in\":0.0,\"humidity\":57,\"cloud\":0,\"feelslike_c\":18.8,\"feelslike_f\":65.8,\"windchill_c\":18.8,\"windchill_f\":65.8,\"heatindex_c\":18.8,\"heatindex_f\":65.8,\"dewpoint_c\":10.1,\"dewpoint_f\":50.2,\"will_it_rain\":0,\"chance_of_rain\":0,\"will_it_snow\":0,\"chance_of_snow\":0,\"vis_km\":10.0,\"vis_miles\":6.0,\"gust_mph\":6.9,\"gust_kph\":11.2,\"uv\":5.0},{\"time_epoch\":1693980000,\"time\":\"2023-09-06 08:00\",\"temp_c\":20.8,\"temp_f\":69.4,\"is_day\":1,\"condition\":{\"text\":\"Sunny\",\"icon\":\"//cdn.weatherapi.com/weather/64x64/day/113.png\",\"code\":1000},\"wind_mph\":4.5,\"wind_kph\":7.2,\"wind_degree\":136,\"wind_dir\":\"SE\",\"pressure_mb\":1023.0,\"pressure_in\":30.22,\"precip_mm\":0.0,\"precip_in\":0.0,\"humidity\":49,\"cloud\":5,\"feelslike_c\":20.8,\"feelslike_f\":69.4,\"windchill_c\":20.8,\"windchill_f\":69.4,\"heatindex_c\":20.8,\"heatindex_f\":69.4,\"dewpoint_c\":9.9,\"dewpoint_f\":49.8,\"will_it_rain\":0,\"chance_of_rain\":0,\"will_it_snow\":0,\"chance_of_snow\":0,\"vis_km\":10.0,\"vis_miles\":6.0,\"gust_mph\":5.8,\"gust_kph\":9.4,\"uv\":6.0},{\"time_epoch\":1693983600,\"time\":\"2023-09-06 09:00\",\"temp_c\":22.8,\"temp_f\":73.0,\"is_day\":1,\"condition\":{\"text\":\"Sunny\",\"icon\":\"//cdn.weatherapi.com/weather/64x64/day/113.png\",\"code\":1000},\"wind_mph\":4.5,\"wind_kph\":7.2,\"wind_degree\":133,\"wind_dir\":\"SE\",\"pressure_mb\":1024.0,\"pressure_in\":30.22,\"precip_mm\":0.0,\"precip_in\":0.0,\"humidity\":44,\"cloud\":4,\"feelslike_c\":24.4,\"feelslike_f\":75.9,\"windchill_c\":22.8,\"windchill_f\":73.0,\"heatindex_c\":24.4,\"heatindex_f\":75.9,\"dewpoint_c\":9.8,\"dewpoint_f\":49.6,\"will_it_rain\":0,\"chance_of_rain\":0,\"will_it_snow\":0,\"chance_of_snow\":0,\"vis_km\":10.0,\"vis_miles\":6.0,\"gust_mph\":5.1,\"gust_kph\":8.3,\"uv\":6.0},{\"time_epoch\":1693987200,\"time\":\"2023-09-06 10:00\",\"temp_c\":24.7,\"temp_f\":76.5,\"is_day\":1,\"condition\":{\"text\":\"Sunny\",\"icon\":\"//cdn.weatherapi.com/weather/64x64/day/113.png\",\"code\":1000},\"wind_mph\":4.0,\"wind_kph\":6.5,\"wind_degree\":134,\"wind_dir\":\"SE\",\"pressure_mb\":1024.0,\"pressure_in\":30.22,\"precip_mm\":0.0,\"precip_in\":0.0,\"humidity\":38,\"cloud\":4,\"feelslike_c\":25.1,\"feelslike_f\":77.2,\"windchill_c\":24.7,\"windchill_f\":76.5,\"heatindex_c\":25.1,\"heatindex_f\":77.2,\"dewpoint_c\":9.6,\"dewpoint_f\":49.3,\"will_it_rain\":0,\"chance_of_rain\":0,\"will_it_snow\":0,\"chance_of_snow\":0,\"vis_km\":10.0,\"vis_miles\":6.0,\"gust_mph\":4.7,\"gust_kph\":7.6,\"uv\":6.0},{\"time_epoch\":1693990800,\"time\":\"2023-09-06 11:00\",\"temp_c\":26.4,\"temp_f\":79.5,\"is_day\":1,\"condition\":{\"text\":\"Sunny\",\"icon\":\"//cdn.weatherapi.com/weather/64x64/day/113.png\",\"code\":1000},\"wind_mph\":4.3,\"wind_kph\":6.8,\"wind_degree\":121,\"wind_dir\":\"ESE\",\"pressure_mb\":1023.0,\"pressure_in\":30.22,\"precip_mm\":0.0,\"precip_in\":0.0,\"humidity\":35,\"cloud\":3,\"feelslike_c\":26.0,\"feelslike_f\":78.8,\"windchill_c\":26.4,\"windchill_f\":79.5,\"heatindex_c\":26.0,\"heatindex_f\":78.8,\"dewpoint_c\":9.7,\"dewpoint_f\":49.5,\"will_it_rain\":0,\"chance_of_rain\":0,\"will_it_snow\":0,\"chance_of_snow\":0,\"vis_km\":10.0,\"vis_miles\":6.0,\"gust_mph\":4.9,\"gust_kph\":7.9,\"uv\":7.0},{\"time_epoch\":1693994400,\"time\":\"2023-09-06 12:00\",\"temp_c\":27.6,\"temp_f\":81.7,\"is_day\":1,\"condition\":{\"text\":\"Sunny\",\"icon\":\"//cdn.weatherapi.com/weather/64x64/day/113.png\",\"code\":1000},\"wind_mph\":4.5,\"wind_kph\":7.2,\"wind_degree\":114,\"wind_dir\":\"ESE\",\"pressure_mb\":1023.0,\"pressure_in\":30.21,\"precip_mm\":0.0,\"precip_in\":0.0,\"humidity\":33,\"cloud\":2,\"feelslike_c\":26.9,\"feelslike_f\":80.4,\"windchill_c\":27.6,\"windchill_f\":81.7,\"heatindex_c\":26.9,\"heatindex_f\":80.4,\"dewpoint_c\":9.8,\"dewpoint_f\":49.6,\"will_it_rain\":0,\"chance_of_rain\":0,\"will_it_snow\":0,\"chance_of_snow\":0,\"vis_km\":10.0,\"vis_miles\":6.0,\"gust_mph\":5.1,\"gust_kph\":8.3,\"uv\":7.0},{\"time_epoch\":1693998000,\"time\":\"2023-09-06 13:00\",\"temp_c\":28.5,\"temp_f\":83.3,\"is_day\":1,\"condition\":{\"text\":\"Sunny\",\"icon\":\"//cdn.weatherapi.com/weather/64x64/day/113.png\",\"code\":1000},\"wind_mph\":4.7,\"wind_kph\":7.6,\"wind_degree\":106,\"wind_dir\":\"ESE\",\"pressure_mb\":1023.0,\"pressure_in\":30.2,\"precip_mm\":0.0,\"precip_in\":0.0,\"humidity\":31,\"cloud\":3,\"feelslike_c\":27.6,\"feelslike_f\":81.7,\"windchill_c\":28.5,\"windchill_f\":83.3,\"heatindex_c\":27.6,\"heatindex_f\":81.7,\"dewpoint_c\":9.8,\"dewpoint_f\":49.6,\"will_it_rain\":0,\"chance_of_rain\":0,\"will_it_snow\":0,\"chance_of_snow\":0,\"vis_km\":10.0,\"vis_miles\":6.0,\"gust_mph\":5.4,\"gust_kph\":8.6,\"uv\":7.0},{\"time_epoch\":1694001600,\"time\":\"2023-09-06 14:00\",\"temp_c\":29.2,\"temp_f\":84.6,\"is_day\":1,\"condition\":{\"text\":\"Sunny\",\"icon\":\"//cdn.weatherapi.com/weather/64x64/day/113.png\",\"code\":1000},\"wind_mph\":5.1,\"wind_kph\":8.3,\"wind_degree\":104,\"wind_dir\":\"ESE\",\"pressure_mb\":1022.0,\"pressure_in\":30.19,\"precip_mm\":0.0,\"precip_in\":0.0,\"humidity\":30,\"cloud\":0,\"feelslike_c\":28.1,\"feelslike_f\":82.6,\"windchill_c\":29.2,\"windchill_f\":84.6,\"heatindex_c\":28.1,\"heatindex_f\":82.6,\"dewpoint_c\":9.9,\"dewpoint_f\":49.8,\"will_it_rain\":0,\"chance_of_rain\":0,\"will_it_snow\":0,\"chance_of_snow\":0,\"vis_km\":10.0,\"vis_miles\":6.0,\"gust_mph\":5.8,\"gust_kph\":9.4,\"uv\":7.0},{\"time_epoch\":1694005200,\"time\":\"2023-09-06 15:00\",\"temp_c\":29.4,\"temp_f\":84.9,\"is_day\":1,\"condition\":{\"text\":\"Sunny\",\"icon\":\"//cdn.weatherapi.com/weather/64x64/day/113.png\",\"code\":1000},\"wind_mph\":5.6,\"wind_kph\":9.0,\"wind_degree\":103,\"wind_dir\":\"ESE\",\"pressure_mb\":1022.0,\"pressure_in\":30.18,\"precip_mm\":0.0,\"precip_in\":0.0,\"humidity\":30,\"cloud\":0,\"feelslike_c\":28.3,\"feelslike_f\":82.9,\"windchill_c\":29.4,\"windchill_f\":84.9,\"heatindex_c\":28.3,\"heatindex_f\":82.9,\"dewpoint_c\":10.1,\"dewpoint_f\":50.2,\"will_it_rain\":0,\"chance_of_rain\":0,\"will_it_snow\":0,\"chance_of_snow\":0,\"vis_km\":10.0,\"vis_miles\":6.0,\"gust_mph\":6.5,\"gust_kph\":10.4,\"uv\":7.0},{\"time_epoch\":1694008800,\"time\":\"2023-09-06 16:00\",\"temp_c\":29.3,\"temp_f\":84.7,\"is_day\":1,\"condition\":{\"text\":\"Sunny\",\"icon\":\"//cdn.weatherapi.com/weather/64x64/day/113.png\",\"code\":1000},\"wind_mph\":6.5,\"wind_kph\":10.4,\"wind_degree\":100,\"wind_dir\":\"E\",\"pressure_mb\":1022.0,\"pressure_in\":30.17,\"precip_mm\":0.0,\"precip_in\":0.0,\"humidity\":31,\"cloud\":0,\"feelslike_c\":28.3,\"feelslike_f\":82.9,\"windchill_c\":29.3,\"windchill_f\":84.7,\"heatindex_c\":28.3,\"heatindex_f\":82.9,\"dewpoint_c\":10.5,\"dewpoint_f\":50.9,\"will_it_rain\":0,\"chance_of_rain\":0,\"will_it_snow\":0,\"chance_of_snow\":0,\"vis_km\":10.0,\"vis_miles\":6.0,\"gust_mph\":7.8,\"gust_kph\":12.6,\"uv\":7.0},{\"time_epoch\":1694012400,\"time\":\"2023-09-06 17:00\",\"temp_c\":28.5,\"temp_f\":83.3,\"is_day\":1,\"condition\":{\"text\":\"Sunny\",\"icon\":\"//cdn.weatherapi.com/weather/64x64/day/113.png\",\"code\":1000},\"wind_mph\":6.9,\"wind_kph\":11.2,\"wind_degree\":97,\"wind_dir\":\"E\",\"pressure_mb\":1022.0,\"pressure_in\":30.17,\"precip_mm\":0.0,\"precip_in\":0.0,\"humidity\":34,\"cloud\":0,\"feelslike_c\":27.8,\"feelslike_f\":82.0,\"windchill_c\":28.5,\"windchill_f\":83.3,\"heatindex_c\":27.8,\"heatindex_f\":82.0,\"dewpoint_c\":11.1,\"dewpoint_f\":52.0,\"will_it_rain\":0,\"chance_of_rain\":0,\"will_it_snow\":0,\"chance_of_snow\":0,\"vis_km\":10.0,\"vis_miles\":6.0,\"gust_mph\":9.4,\"gust_kph\":15.1,\"uv\":7.0},{\"time_epoch\":1694016000,\"time\":\"2023-09-06 18:00\",\"temp_c\":26.6,\"temp_f\":79.9,\"is_day\":1,\"condition\":{\"text\":\"Sunny\",\"icon\":\"//cdn.weatherapi.com/weather/64x64/day/113.png\",\"code\":1000},\"wind_mph\":6.7,\"wind_kph\":10.8,\"wind_degree\":92,\"wind_dir\":\"E\",\"pressure_mb\":1022.0,\"pressure_in\":30.17,\"precip_mm\":0.0,\"precip_in\":0.0,\"humidity\":40,\"cloud\":0,\"feelslike_c\":26.5,\"feelslike_f\":79.7,\"windchill_c\":26.6,\"windchill_f\":79.9,\"heatindex_c\":26.5,\"heatindex_f\":79.7,\"dewpoint_c\":11.7,\"dewpoint_f\":53.1,\"will_it_rain\":0,\"chance_of_rain\":0,\"will_it_snow\":0,\"chance_of_snow\":0,\"vis_km\":10.0,\"vis_miles\":6.0,\"gust_mph\":11.2,\"gust_kph\":18.0,\"uv\":7.0},{\"time_epoch\":1694019600,\"time\":\"2023-09-06 19:00\",\"temp_c\":24.6,\"temp_f\":76.3,\"is_day\":1,\"condition\":{\"text\":\"Sunny\",\"icon\":\"//cdn.weatherapi.com/weather/64x64/day/113.png\",\"code\":1000},\"wind_mph\":6.5,\"wind_kph\":10.4,\"wind_degree\":90,\"wind_dir\":\"E\",\"pressure_mb\":1022.0,\"pressure_in\":30.19,\"precip_mm\":0.0,\"precip_in\":0.0,\"humidity\":44,\"cloud\":0,\"feelslike_c\":25.3,\"feelslike_f\":77.5,\"windchill_c\":24.6,\"windchill_f\":76.3,\"heatindex_c\":25.3,\"heatindex_f\":77.5,\"dewpoint_c\":11.4,\"dewpoint_f\":52.5,\"will_it_rain\":0,\"chance_of_rain\":0,\"will_it_snow\":0,\"chance_of_snow\":0,\"vis_km\":10.0,\"vis_miles\":6.0,\"gust_mph\":12.8,\"gust_kph\":20.5,\"uv\":6.0},{\"time_epoch\":1694023200,\"time\":\"2023-09-06 20:00\",\"temp_c\":23.4,\"temp_f\":74.1,\"is_day\":0,\"condition\":{\"text\":\"Clear\",\"icon\":\"//cdn.weatherapi.com/weather/64x64/night/113.png\",\"code\":1000},\"wind_mph\":6.5,\"wind_kph\":10.4,\"wind_degree\":92,\"wind_dir\":\"E\",\"pressure_mb\":1023.0,\"pressure_in\":30.2,\"precip_mm\":0.0,\"precip_in\":0.0,\"humidity\":47,\"cloud\":0,\"feelslike_c\":24.8,\"feelslike_f\":76.6,\"windchill_c\":23.4,\"windchill_f\":74.1,\"heatindex_c\":24.8,\"heatindex_f\":76.6,\"dewpoint_c\":11.3,\"dewpoint_f\":52.3,\"will_it_rain\":0,\"chance_of_rain\":0,\"will_it_snow\":0,\"chance_of_snow\":0,\"vis_km\":10.0,\"vis_miles\":6.0,\"gust_mph\":13.0,\"gust_kph\":20.9,\"uv\":1.0},{\"time_epoch\":1694026800,\"time\":\"2023-09-06 21:00\",\"temp_c\":22.3,\"temp_f\":72.1,\"is_day\":0,\"condition\":{\"text\":\"Clear\",\"icon\":\"//cdn.weatherapi.com/weather/64x64/night/113.png\",\"code\":1000},\"wind_mph\":6.5,\"wind_kph\":10.4,\"wind_degree\":99,\"wind_dir\":\"E\",\"pressure_mb\":1023.0,\"pressure_in\":30.22,\"precip_mm\":0.0,\"precip_in\":0.0,\"humidity\":49,\"cloud\":0,\"feelslike_c\":24.5,\"feelslike_f\":76.1,\"windchill_c\":22.3,\"windchill_f\":72.1,\"heatindex_c\":24.5,\"heatindex_f\":76.1,\"dewpoint_c\":11.1,\"dewpoint_f\":52.0,\"will_it_rain\":0,\"chance_of_rain\":0,\"will_it_snow\":0,\"chance_of_snow\":0,\"vis_km\":10.0,\"vis_miles\":6.0,\"gust_mph\":13.0,\"gust_kph\":20.9,\"uv\":1.0},{\"time_epoch\":1694030400,\"time\":\"2023-09-06 22:00\",\"temp_c\":21.5,\"temp_f\":70.7,\"is_day\":0,\"condition\":{\"text\":\"Clear\",\"icon\":\"//cdn.weatherapi.com/weather/64x64/night/113.png\",\"code\":1000},\"wind_mph\":6.3,\"wind_kph\":10.1,\"wind_degree\":108,\"wind_dir\":\"ESE\",\"pressure_mb\":1023.0,\"pressure_in\":30.22,\"precip_mm\":0.0,\"precip_in\":0.0,\"humidity\":50,\"cloud\":0,\"feelslike_c\":21.5,\"feelslike_f\":70.7,\"windchill_c\":21.5,\"windchill_f\":70.7,\"heatindex_c\":24.3,\"heatindex_f\":75.7,\"dewpoint_c\":10.6,\"dewpoint_f\":51.1,\"will_it_rain\":0,\"chance_of_rain\":0,\"will_it_snow\":0,\"chance_of_snow\":0,\"vis_km\":10.0,\"vis_miles\":6.0,\"gust_mph\":12.5,\"gust_kph\":20.2,\"uv\":1.0},{\"time_epoch\":1694034000,\"time\":\"2023-09-06 23:00\",\"temp_c\":20.8,\"temp_f\":69.4,\"is_day\":0,\"condition\":{\"text\":\"Clear\",\"icon\":\"//cdn.weatherapi.com/weather/64x64/night/113.png\",\"code\":1000},\"wind_mph\":5.8,\"wind_kph\":9.4,\"wind_degree\":105,\"wind_dir\":\"ESE\",\"pressure_mb\":1024.0,\"pressure_in\":30.23,\"precip_mm\":0.0,\"precip_in\":0.0,\"humidity\":51,\"cloud\":0,\"feelslike_c\":20.8,\"feelslike_f\":69.4,\"windchill_c\":20.8,\"windchill_f\":69.4,\"heatindex_c\":20.8,\"heatindex_f\":69.4,\"dewpoint_c\":10.3,\"dewpoint_f\":50.5,\"will_it_rain\":0,\"chance_of_rain\":0,\"will_it_snow\":0,\"chance_of_snow\":0,\"vis_km\":10.0,\"vis_miles\":6.0,\"gust_mph\":11.6,\"gust_kph\":18.7,\"uv\":1.0}]},{\"date\":\"2023-09-07\",\"date_epoch\":1694044800,\"day\":{\"maxtemp_c\":29.5,\"maxtemp_f\":85.1,\"mintemp_c\":17.5,\"mintemp_f\":63.5,\"avgtemp_c\":23.2,\"avgtemp_f\":73.7,\"maxwind_mph\":11.0,\"maxwind_kph\":17.6,\"totalprecip_mm\":0.0,\"totalprecip_in\":0.0,\"avgvis_km\":10.0,\"avgvis_miles\":6.0,\"avghumidity\":45.0,\"condition\":{\"text\":\"Sunny\",\"icon\":\"//cdn.weatherapi.com/weather/64x64/day/113.png\",\"code\":1000},\"uv\":7.0},\"astro\":{\"sunrise\":\"06:26 AM\",\"sunset\":\"07:42 PM\",\"moonrise\":\"10:48 PM\",\"moonset\":\"04:16 PM\",\"moon_phase\":\"Waning Crescent\",\"moon_illumination\":\"49\"},\"hour\":[{\"time_epoch\":1694037600,\"time\":\"2023-09-07 00:00\",\"temp_c\":20.2,\"temp_f\":68.4,\"is_day\":0,\"condition\":{\"text\":\"Clear\",\"icon\":\"//cdn.weatherapi.com/weather/64x64/night/113.png\",\"code\":1000},\"wind_mph\":5.8,\"wind_kph\":9.4,\"wind_degree\":106,\"wind_dir\":\"ESE\",\"pressure_mb\":1024.0,\"pressure_in\":30.24,\"precip_mm\":0.0,\"precip_in\":0.0,\"humidity\":54,\"cloud\":0,\"feelslike_c\":20.2,\"feelslike_f\":68.4,\"windchill_c\":20.2,\"windchill_f\":68.4,\"heatindex_c\":20.2,\"heatindex_f\":68.4,\"dewpoint_c\":10.7,\"dewpoint_f\":51.3,\"will_it_rain\":0,\"chance_of_rain\":0,\"will_it_snow\":0,\"chance_of_snow\":0,\"vis_km\":10.0,\"vis_miles\":6.0,\"gust_mph\":11.9,\"gust_kph\":19.1,\"uv\":1.0},{\"time_epoch\":1694041200,\"time\":\"2023-09-07 01:00\",\"temp_c\":19.6,\"temp_f\":67.3,\"is_day\":0,\"condition\":{\"text\":\"Clear\",\"icon\":\"//cdn.weatherapi.com/weather/64x64/night/113.png\",\"code\":1000},\"wind_mph\":5.8,\"wind_kph\":9.4,\"wind_degree\":105,\"wind_dir\":\"ESE\",\"pressure_mb\":1024.0,\"pressure_in\":30.24,\"precip_mm\":0.0,\"precip_in\":0.0,\"humidity\":55,\"cloud\":0,\"feelslike_c\":19.6,\"feelslike_f\":67.3,\"windchill_c\":19.6,\"windchill_f\":67.3,\"heatindex_c\":19.6,\"heatindex_f\":67.3,\"dewpoint_c\":10.4,\"dewpoint_f\":50.7,\"will_it_rain\":0,\"chance_of_rain\":0,\"will_it_snow\":0,\"chance_of_snow\":0,\"vis_km\":10.0,\"vis_miles\":6.0,\"gust_mph\":11.9,\"gust_kph\":19.1,\"uv\":1.0},{\"time_epoch\":1694044800,\"time\":\"2023-09-07 02:00\",\"temp_c\":19.0,\"temp_f\":66.2,\"is_day\":0,\"condition\":{\"text\":\"Clear\",\"icon\":\"//cdn.weatherapi.com/weather/64x64/night/113.png\",\"code\":1000},\"wind_mph\":5.8,\"wind_kph\":9.4,\"wind_degree\":105,\"wind_dir\":\"ESE\",\"pressure_mb\":1024.0,\"pressure_in\":30.24,\"precip_mm\":0.0,\"precip_in\":0.0,\"humidity\":57,\"cloud\":0,\"feelslike_c\":19.0,\"feelslike_f\":66.2,\"windchill_c\":19.0,\"windchill_f\":66.2,\"heatindex_c\":19.0,\"heatindex_f\":66.2,\"dewpoint_c\":10.3,\"dewpoint_f\":50.5,\"will_it_rain\":0,\"chance_of_rain\":0,\"will_it_snow\":0,\"chance_of_snow\":0,\"vis_km\":10.0,\"vis_miles\":6.0,\"gust_mph\":11.9,\"gust_kph\":19.1,\"uv\":1.0},{\"time_epoch\":1694048400,\"time\":\"2023-09-07 03:00\",\"temp_c\":18.5,\"temp_f\":65.3,\"is_day\":0,\"condition\":{\"text\":\"Clear\",\"icon\":\"//cdn.weatherapi.com/weather/64x64/night/113.png\",\"code\":1000},\"wind_mph\":5.8,\"wind_kph\":9.4,\"wind_degree\":101,\"wind_dir\":\"ESE\",\"pressure_mb\":1024.0,\"pressure_in\":30.23,\"precip_mm\":0.0,\"precip_in\":0.0,\"humidity\":59,\"cloud\":0,\"feelslike_c\":18.5,\"feelslike_f\":65.3,\"windchill_c\":18.5,\"windchill_f\":65.3,\"heatindex_c\":18.5,\"heatindex_f\":65.3,\"dewpoint_c\":10.3,\"dewpoint_f\":50.5,\"will_it_rain\":0,\"chance_of_rain\":0,\"will_it_snow\":0,\"chance_of_snow\":0,\"vis_km\":10.0,\"vis_miles\":6.0,\"gust_mph\":11.9,\"gust_kph\":19.1,\"uv\":1.0},{\"time_epoch\":1694052000,\"time\":\"2023-09-07 04:00\",\"temp_c\":18.1,\"temp_f\":64.6,\"is_day\":0,\"condition\":{\"text\":\"Clear\",\"icon\":\"//cdn.weatherapi.com/weather/64x64/night/113.png\",\"code\":1000},\"wind_mph\":5.8,\"wind_kph\":9.4,\"wind_degree\":101,\"wind_dir\":\"ESE\",\"pressure_mb\":1024.0,\"pressure_in\":30.24,\"precip_mm\":0.0,\"precip_in\":0.0,\"humidity\":61,\"cloud\":0,\"feelslike_c\":18.1,\"feelslike_f\":64.6,\"windchill_c\":18.1,\"windchill_f\":64.6,\"heatindex_c\":18.1,\"heatindex_f\":64.6,\"dewpoint_c\":10.4,\"dewpoint_f\":50.7,\"will_it_rain\":0,\"chance_of_rain\":0,\"will_it_snow\":0,\"chance_of_snow\":0,\"vis_km\":10.0,\"vis_miles\":6.0,\"gust_mph\":11.9,\"gust_kph\":19.1,\"uv\":1.0},{\"time_epoch\":1694055600,\"time\":\"2023-09-07 05:00\",\"temp_c\":17.7,\"temp_f\":63.9,\"is_day\":0,\"condition\":{\"text\":\"Clear\",\"icon\":\"//cdn.weatherapi.com/weather/64x64/night/113.png\",\"code\":1000},\"wind_mph\":5.8,\"wind_kph\":9.4,\"wind_degree\":97,\"wind_dir\":\"E\",\"pressure_mb\":1024.0,\"pressure_in\":30.24,\"precip_mm\":0.0,\"precip_in\":0.0,\"humidity\":62,\"cloud\":0,\"feelslike_c\":17.7,\"feelslike_f\":63.9,\"windchill_c\":17.7,\"windchill_f\":63.9,\"heatindex_c\":17.7,\"heatindex_f\":63.9,\"dewpoint_c\":10.3,\"dewpoint_f\":50.5,\"will_it_rain\":0,\"chance_of_rain\":0,\"will_it_snow\":0,\"chance_of_snow\":0,\"vis_km\":10.0,\"vis_miles\":6.0,\"gust_mph\":11.9,\"gust_kph\":19.1,\"uv\":1.0},{\"time_epoch\":1694059200,\"time\":\"2023-09-07 06:00\",\"temp_c\":17.5,\"temp_f\":63.5,\"is_day\":0,\"condition\":{\"text\":\"Clear\",\"icon\":\"//cdn.weatherapi.com/weather/64x64/night/113.png\",\"code\":1000},\"wind_mph\":6.0,\"wind_kph\":9.7,\"wind_degree\":96,\"wind_dir\":\"E\",\"pressure_mb\":1024.0,\"pressure_in\":30.24,\"precip_mm\":0.0,\"precip_in\":0.0,\"humidity\":62,\"cloud\":0,\"feelslike_c\":17.5,\"feelslike_f\":63.5,\"windchill_c\":17.5,\"windchill_f\":63.5,\"heatindex_c\":17.5,\"heatindex_f\":63.5,\"dewpoint_c\":10.3,\"dewpoint_f\":50.5,\"will_it_rain\":0,\"chance_of_rain\":0,\"will_it_snow\":0,\"chance_of_snow\":0,\"vis_km\":10.0,\"vis_miles\":6.0,\"gust_mph\":11.9,\"gust_kph\":19.1,\"uv\":1.0},{\"time_epoch\":1694062800,\"time\":\"2023-09-07 07:00\",\"temp_c\":18.8,\"temp_f\":65.8,\"is_day\":1,\"condition\":{\"text\":\"Sunny\",\"icon\":\"//cdn.weatherapi.com/weather/64x64/day/113.png\",\"code\":1000},\"wind_mph\":6.7,\"wind_kph\":10.8,\"wind_degree\":99,\"wind_dir\":\"E\",\"pressure_mb\":1025.0,\"pressure_in\":30.25,\"precip_mm\":0.0,\"precip_in\":0.0,\"humidity\":58,\"cloud\":0,\"feelslike_c\":18.8,\"feelslike_f\":65.8,\"windchill_c\":18.8,\"windchill_f\":65.8,\"heatindex_c\":18.8,\"heatindex_f\":65.8,\"dewpoint_c\":10.5,\"dewpoint_f\":50.9,\"will_it_rain\":0,\"chance_of_rain\":0,\"will_it_snow\":0,\"chance_of_snow\":0,\"vis_km\":10.0,\"vis_miles\":6.0,\"gust_mph\":11.0,\"gust_kph\":17.6,\"uv\":5.0},{\"time_epoch\":1694066400,\"time\":\"2023-09-07 08:00\",\"temp_c\":21.0,\"temp_f\":69.8,\"is_day\":1,\"condition\":{\"text\":\"Sunny\",\"icon\":\"//cdn.weatherapi.com/weather/64x64/day/113.png\",\"code\":1000},\"wind_mph\":7.8,\"wind_kph\":12.6,\"wind_degree\":106,\"wind_dir\":\"ESE\",\"pressure_mb\":1025.0,\"pressure_in\":30.26,\"precip_mm\":0.0,\"precip_in\":0.0,\"humidity\":51,\"cloud\":0,\"feelslike_c\":21.0,\"feelslike_f\":69.8,\"windchill_c\":21.0,\"windchill_f\":69.8,\"heatindex_c\":21.0,\"heatindex_f\":69.8,\"dewpoint_c\":10.4,\"dewpoint_f\":50.7,\"will_it_rain\":0,\"chance_of_rain\":0,\"will_it_snow\":0,\"chance_of_snow\":0,\"vis_km\":10.0,\"vis_miles\":6.0,\"gust_mph\":10.3,\"gust_kph\":16.6,\"uv\":6.0},{\"time_epoch\":1694070000,\"time\":\"2023-09-07 09:00\",\"temp_c\":23.3,\"temp_f\":73.9,\"is_day\":1,\"condition\":{\"text\":\"Sunny\",\"icon\":\"//cdn.weatherapi.com/weather/64x64/day/113.png\",\"code\":1000},\"wind_mph\":8.7,\"wind_kph\":14.0,\"wind_degree\":109,\"wind_dir\":\"ESE\",\"pressure_mb\":1025.0,\"pressure_in\":30.25,\"precip_mm\":0.0,\"precip_in\":0.0,\"humidity\":44,\"cloud\":0,\"feelslike_c\":24.6,\"feelslike_f\":76.3,\"windchill_c\":23.3,\"windchill_f\":73.9,\"heatindex_c\":24.6,\"heatindex_f\":76.3,\"dewpoint_c\":10.3,\"dewpoint_f\":50.5,\"will_it_rain\":0,\"chance_of_rain\":0,\"will_it_snow\":0,\"chance_of_snow\":0,\"vis_km\":10.0,\"vis_miles\":6.0,\"gust_mph\":10.1,\"gust_kph\":16.2,\"uv\":6.0},{\"time_epoch\":1694073600,\"time\":\"2023-09-07 10:00\",\"temp_c\":25.3,\"temp_f\":77.5,\"is_day\":1,\"condition\":{\"text\":\"Sunny\",\"icon\":\"//cdn.weatherapi.com/weather/64x64/day/113.png\",\"code\":1000},\"wind_mph\":9.4,\"wind_kph\":15.1,\"wind_degree\":109,\"wind_dir\":\"ESE\",\"pressure_mb\":1025.0,\"pressure_in\":30.25,\"precip_mm\":0.0,\"precip_in\":0.0,\"humidity\":37,\"cloud\":0,\"feelslike_c\":25.4,\"feelslike_f\":77.7,\"windchill_c\":25.3,\"windchill_f\":77.5,\"heatindex_c\":25.4,\"heatindex_f\":77.7,\"dewpoint_c\":9.7,\"dewpoint_f\":49.5,\"will_it_rain\":0,\"chance_of_rain\":0,\"will_it_snow\":0,\"chance_of_snow\":0,\"vis_km\":10.0,\"vis_miles\":6.0,\"gust_mph\":10.7,\"gust_kph\":17.3,\"uv\":7.0},{\"time_epoch\":1694077200,\"time\":\"2023-09-07 11:00\",\"temp_c\":27.0,\"temp_f\":80.6,\"is_day\":1,\"condition\":{\"text\":\"Sunny\",\"icon\":\"//cdn.weatherapi.com/weather/64x64/day/113.png\",\"code\":1000},\"wind_mph\":10.1,\"wind_kph\":16.2,\"wind_degree\":111,\"wind_dir\":\"ESE\",\"pressure_mb\":1024.0,\"pressure_in\":30.24,\"precip_mm\":0.0,\"precip_in\":0.0,\"humidity\":32,\"cloud\":0,\"feelslike_c\":26.3,\"feelslike_f\":79.3,\"windchill_c\":27.0,\"windchill_f\":80.6,\"heatindex_c\":26.3,\"heatindex_f\":79.3,\"dewpoint_c\":8.9,\"dewpoint_f\":48.0,\"will_it_rain\":0,\"chance_of_rain\":0,\"will_it_snow\":0,\"chance_of_snow\":0,\"vis_km\":10.0,\"vis_miles\":6.0,\"gust_mph\":11.6,\"gust_kph\":18.7,\"uv\":7.0},{\"time_epoch\":1694080800,\"time\":\"2023-09-07 12:00\",\"temp_c\":28.2,\"temp_f\":82.8,\"is_day\":1,\"condition\":{\"text\":\"Sunny\",\"icon\":\"//cdn.weatherapi.com/weather/64x64/day/113.png\",\"code\":1000},\"wind_mph\":10.5,\"wind_kph\":16.9,\"wind_degree\":114,\"wind_dir\":\"ESE\",\"pressure_mb\":1024.0,\"pressure_in\":30.23,\"precip_mm\":0.0,\"precip_in\":0.0,\"humidity\":29,\"cloud\":0,\"feelslike_c\":27.0,\"feelslike_f\":80.6,\"windchill_c\":28.2,\"windchill_f\":82.8,\"heatindex_c\":27.0,\"heatindex_f\":80.6,\"dewpoint_c\":8.4,\"dewpoint_f\":47.1,\"will_it_rain\":0,\"chance_of_rain\":0,\"will_it_snow\":0,\"chance_of_snow\":0,\"vis_km\":10.0,\"vis_miles\":6.0,\"gust_mph\":12.1,\"gust_kph\":19.4,\"uv\":7.0},{\"time_epoch\":1694084400,\"time\":\"2023-09-07 13:00\",\"temp_c\":29.0,\"temp_f\":84.2,\"is_day\":1,\"condition\":{\"text\":\"Sunny\",\"icon\":\"//cdn.weatherapi.com/weather/64x64/day/113.png\",\"code\":1000},\"wind_mph\":10.5,\"wind_kph\":16.9,\"wind_degree\":113,\"wind_dir\":\"ESE\",\"pressure_mb\":1023.0,\"pressure_in\":30.22,\"precip_mm\":0.0,\"precip_in\":0.0,\"humidity\":27,\"cloud\":0,\"feelslike_c\":27.6,\"feelslike_f\":81.7,\"windchill_c\":29.0,\"windchill_f\":84.2,\"heatindex_c\":27.6,\"heatindex_f\":81.7,\"dewpoint_c\":8.2,\"dewpoint_f\":46.8,\"will_it_rain\":0,\"chance_of_rain\":0,\"will_it_snow\":0,\"chance_of_snow\":0,\"vis_km\":10.0,\"vis_miles\":6.0,\"gust_mph\":12.1,\"gust_kph\":19.4,\"uv\":7.0},{\"time_epoch\":1694088000,\"time\":\"2023-09-07 14:00\",\"temp_c\":29.5,\"temp_f\":85.1,\"is_day\":1,\"condition\":{\"text\":\"Sunny\",\"icon\":\"//cdn.weatherapi.com/weather/64x64/day/113.png\",\"code\":1000},\"wind_mph\":10.7,\"wind_kph\":17.3,\"wind_degree\":111,\"wind_dir\":\"ESE\",\"pressure_mb\":1023.0,\"pressure_in\":30.2,\"precip_mm\":0.0,\"precip_in\":0.0,\"humidity\":26,\"cloud\":0,\"feelslike_c\":28.0,\"feelslike_f\":82.4,\"windchill_c\":29.5,\"windchill_f\":85.1,\"heatindex_c\":28.0,\"heatindex_f\":82.4,\"dewpoint_c\":8.2,\"dewpoint_f\":46.8,\"will_it_rain\":0,\"chance_of_rain\":0,\"will_it_snow\":0,\"chance_of_snow\":0,\"vis_km\":10.0,\"vis_miles\":6.0,\"gust_mph\":12.3,\"gust_kph\":19.8,\"uv\":7.0},{\"time_epoch\":1694091600,\"time\":\"2023-09-07 15:00\",\"temp_c\":29.5,\"temp_f\":85.1,\"is_day\":1,\"condition\":{\"text\":\"Sunny\",\"icon\":\"//cdn.weatherapi.com/weather/64x64/day/113.png\",\"code\":1000},\"wind_mph\":11.0,\"wind_kph\":17.6,\"wind_degree\":110,\"wind_dir\":\"ESE\",\"pressure_mb\":1022.0,\"pressure_in\":30.19,\"precip_mm\":0.0,\"precip_in\":0.0,\"humidity\":26,\"cloud\":0,\"feelslike_c\":28.0,\"feelslike_f\":82.4,\"windchill_c\":29.5,\"windchill_f\":85.1,\"heatindex_c\":28.0,\"heatindex_f\":82.4,\"dewpoint_c\":8.2,\"dewpoint_f\":46.8,\"will_it_rain\":0,\"chance_of_rain\":0,\"will_it_snow\":0,\"chance_of_snow\":0,\"vis_km\":10.0,\"vis_miles\":6.0,\"gust_mph\":12.5,\"gust_kph\":20.2,\"uv\":7.0},{\"time_epoch\":1694095200,\"time\":\"2023-09-07 16:00\",\"temp_c\":29.1,\"temp_f\":84.4,\"is_day\":1,\"condition\":{\"text\":\"Sunny\",\"icon\":\"//cdn.weatherapi.com/weather/64x64/day/113.png\",\"code\":1000},\"wind_mph\":10.7,\"wind_kph\":17.3,\"wind_degree\":111,\"wind_dir\":\"ESE\",\"pressure_mb\":1022.0,\"pressure_in\":30.18,\"precip_mm\":0.0,\"precip_in\":0.0,\"humidity\":28,\"cloud\":0,\"feelslike_c\":27.7,\"feelslike_f\":81.9,\"windchill_c\":29.1,\"windchill_f\":84.4,\"heatindex_c\":27.7,\"heatindex_f\":81.9,\"dewpoint_c\":8.5,\"dewpoint_f\":47.3,\"will_it_rain\":0,\"chance_of_rain\":0,\"will_it_snow\":0,\"chance_of_snow\":0,\"vis_km\":10.0,\"vis_miles\":6.0,\"gust_mph\":13.2,\"gust_kph\":21.2,\"uv\":7.0},{\"time_epoch\":1694098800,\"time\":\"2023-09-07 17:00\",\"temp_c\":28.1,\"temp_f\":82.6,\"is_day\":1,\"condition\":{\"text\":\"Sunny\",\"icon\":\"//cdn.weatherapi.com/weather/64x64/day/113.png\",\"code\":1000},\"wind_mph\":9.8,\"wind_kph\":15.8,\"wind_degree\":109,\"wind_dir\":\"ESE\",\"pressure_mb\":1022.0,\"pressure_in\":30.18,\"precip_mm\":0.0,\"precip_in\":0.0,\"humidity\":30,\"cloud\":4,\"feelslike_c\":27.1,\"feelslike_f\":80.8,\"windchill_c\":28.1,\"windchill_f\":82.6,\"heatindex_c\":27.1,\"heatindex_f\":80.8,\"dewpoint_c\":9.1,\"dewpoint_f\":48.4,\"will_it_rain\":0,\"chance_of_rain\":0,\"will_it_snow\":0,\"chance_of_snow\":0,\"vis_km\":10.0,\"vis_miles\":6.0,\"gust_mph\":13.9,\"gust_kph\":22.3,\"uv\":7.0},{\"time_epoch\":1694102400,\"time\":\"2023-09-07 18:00\",\"temp_c\":26.1,\"temp_f\":79.0,\"is_day\":1,\"condition\":{\"text\":\"Sunny\",\"icon\":\"//cdn.weatherapi.com/weather/64x64/day/113.png\",\"code\":1000},\"wind_mph\":8.3,\"wind_kph\":13.3,\"wind_degree\":106,\"wind_dir\":\"ESE\",\"pressure_mb\":1022.0,\"pressure_in\":30.19,\"precip_mm\":0.0,\"precip_in\":0.0,\"humidity\":36,\"cloud\":4,\"feelslike_c\":25.9,\"feelslike_f\":78.6,\"windchill_c\":26.1,\"windchill_f\":79.0,\"heatindex_c\":25.9,\"heatindex_f\":78.6,\"dewpoint_c\":10.0,\"dewpoint_f\":50.0,\"will_it_rain\":0,\"chance_of_rain\":0,\"will_it_snow\":0,\"chance_of_snow\":0,\"vis_km\":10.0,\"vis_miles\":6.0,\"gust_mph\":14.1,\"gust_kph\":22.7,\"uv\":7.0},{\"time_epoch\":1694106000,\"time\":\"2023-09-07 19:00\",\"temp_c\":24.1,\"temp_f\":75.4,\"is_day\":1,\"condition\":{\"text\":\"Sunny\",\"icon\":\"//cdn.weatherapi.com/weather/64x64/day/113.png\",\"code\":1000},\"wind_mph\":7.8,\"wind_kph\":12.6,\"wind_degree\":105,\"wind_dir\":\"ESE\",\"pressure_mb\":1023.0,\"pressure_in\":30.19,\"precip_mm\":0.0,\"precip_in\":0.0,\"humidity\":42,\"cloud\":5,\"feelslike_c\":24.9,\"feelslike_f\":76.8,\"windchill_c\":24.1,\"windchill_f\":75.4,\"heatindex_c\":24.9,\"heatindex_f\":76.8,\"dewpoint_c\":10.4,\"dewpoint_f\":50.7,\"will_it_rain\":0,\"chance_of_rain\":0,\"will_it_snow\":0,\"chance_of_snow\":0,\"vis_km\":10.0,\"vis_miles\":6.0,\"gust_mph\":15.2,\"gust_kph\":24.5,\"uv\":6.0},{\"time_epoch\":1694109600,\"time\":\"2023-09-07 20:00\",\"temp_c\":23.0,\"temp_f\":73.4,\"is_day\":0,\"condition\":{\"text\":\"Clear\",\"icon\":\"//cdn.weatherapi.com/weather/64x64/night/113.png\",\"code\":1000},\"wind_mph\":7.8,\"wind_kph\":12.6,\"wind_degree\":108,\"wind_dir\":\"ESE\",\"pressure_mb\":1023.0,\"pressure_in\":30.2,\"precip_mm\":0.0,\"precip_in\":0.0,\"humidity\":46,\"cloud\":2,\"feelslike_c\":24.6,\"feelslike_f\":76.3,\"windchill_c\":22.9,\"windchill_f\":73.2,\"heatindex_c\":24.6,\"heatindex_f\":76.3,\"dewpoint_c\":10.8,\"dewpoint_f\":51.4,\"will_it_rain\":0,\"chance_of_rain\":0,\"will_it_snow\":0,\"chance_of_snow\":0,\"vis_km\":10.0,\"vis_miles\":6.0,\"gust_mph\":15.7,\"gust_kph\":25.2,\"uv\":1.0},{\"time_epoch\":1694113200,\"time\":\"2023-09-07 21:00\",\"temp_c\":22.0,\"temp_f\":71.6,\"is_day\":0,\"condition\":{\"text\":\"Clear\",\"icon\":\"//cdn.weatherapi.com/weather/64x64/night/113.png\",\"code\":1000},\"wind_mph\":7.4,\"wind_kph\":11.9,\"wind_degree\":109,\"wind_dir\":\"ESE\",\"pressure_mb\":1023.0,\"pressure_in\":30.21,\"precip_mm\":0.0,\"precip_in\":0.0,\"humidity\":49,\"cloud\":0,\"feelslike_c\":24.4,\"feelslike_f\":75.9,\"windchill_c\":22.0,\"windchill_f\":71.6,\"heatindex_c\":24.4,\"heatindex_f\":75.9,\"dewpoint_c\":10.9,\"dewpoint_f\":51.6,\"will_it_rain\":0,\"chance_of_rain\":0,\"will_it_snow\":0,\"chance_of_snow\":0,\"vis_km\":10.0,\"vis_miles\":6.0,\"gust_mph\":15.0,\"gust_kph\":24.1,\"uv\":1.0},{\"time_epoch\":1694116800,\"time\":\"2023-09-07 22:00\",\"temp_c\":21.3,\"temp_f\":70.3,\"is_day\":0,\"condition\":{\"text\":\"Clear\",\"icon\":\"//cdn.weatherapi.com/weather/64x64/night/113.png\",\"code\":1000},\"wind_mph\":6.9,\"wind_kph\":11.2,\"wind_degree\":108,\"wind_dir\":\"ESE\",\"pressure_mb\":1023.0,\"pressure_in\":30.2,\"precip_mm\":0.0,\"precip_in\":0.0,\"humidity\":52,\"cloud\":0,\"feelslike_c\":21.3,\"feelslike_f\":70.3,\"windchill_c\":21.3,\"windchill_f\":70.3,\"heatindex_c\":24.4,\"heatindex_f\":75.9,\"dewpoint_c\":10.9,\"dewpoint_f\":51.6,\"will_it_rain\":0,\"chance_of_rain\":0,\"will_it_snow\":0,\"chance_of_snow\":0,\"vis_km\":10.0,\"vis_miles\":6.0,\"gust_mph\":14.1,\"gust_kph\":22.7,\"uv\":1.0},{\"time_epoch\":1694120400,\"time\":\"2023-09-07 23:00\",\"temp_c\":20.6,\"temp_f\":69.1,\"is_day\":0,\"condition\":{\"text\":\"Clear\",\"icon\":\"//cdn.weatherapi.com/weather/64x64/night/113.png\",\"code\":1000},\"wind_mph\":6.9,\"wind_kph\":11.2,\"wind_degree\":109,\"wind_dir\":\"ESE\",\"pressure_mb\":1023.0,\"pressure_in\":30.2,\"precip_mm\":0.0,\"precip_in\":0.0,\"humidity\":54,\"cloud\":0,\"feelslike_c\":20.6,\"feelslike_f\":69.1,\"windchill_c\":20.6,\"windchill_f\":69.1,\"heatindex_c\":20.6,\"heatindex_f\":69.1,\"dewpoint_c\":10.9,\"dewpoint_f\":51.6,\"will_it_rain\":0,\"chance_of_rain\":0,\"will_it_snow\":0,\"chance_of_snow\":0,\"vis_km\":10.0,\"vis_miles\":6.0,\"gust_mph\":14.1,\"gust_kph\":22.7,\"uv\":1.0}]},{\"date\":\"2023-09-08\",\"date_epoch\":1694131200,\"day\":{\"maxtemp_c\":30.2,\"maxtemp_f\":86.4,\"mintemp_c\":17.4,\"mintemp_f\":63.3,\"avgtemp_c\":23.5,\"avgtemp_f\":74.2,\"maxwind_mph\":9.4,\"maxwind_kph\":15.1,\"totalprecip_mm\":0.0,\"totalprecip_in\":0.0,\"avgvis_km\":10.0,\"avgvis_miles\":6.0,\"avghumidity\":44.0,\"condition\":{\"text\":\"Sunny\",\"icon\":\"//cdn.weatherapi.com/weather/64x64/day/113.png\",\"code\":1000},\"uv\":8.0},\"astro\":{\"sunrise\":\"06:28 AM\",\"sunset\":\"07:39 PM\",\"moonrise\":\"11:39 PM\",\"moonset\":\"05:16 PM\",\"moon_phase\":\"Waning Crescent\",\"moon_illumination\":\"39\"},\"hour\":[{\"time_epoch\":1694124000,\"time\":\"2023-09-08 00:00\",\"temp_c\":20.1,\"temp_f\":68.2,\"is_day\":0,\"condition\":{\"text\":\"Clear\",\"icon\":\"//cdn.weatherapi.com/weather/64x64/night/113.png\",\"code\":1000},\"wind_mph\":6.3,\"wind_kph\":10.1,\"wind_degree\":105,\"wind_dir\":\"ESE\",\"pressure_mb\":1023.0,\"pressure_in\":30.2,\"precip_mm\":0.0,\"precip_in\":0.0,\"humidity\":53,\"cloud\":0,\"feelslike_c\":20.1,\"feelslike_f\":68.2,\"windchill_c\":20.1,\"windchill_f\":68.2,\"heatindex_c\":20.1,\"heatindex_f\":68.2,\"dewpoint_c\":10.1,\"dewpoint_f\":50.2,\"will_it_rain\":0,\"chance_of_rain\":0,\"will_it_snow\":0,\"chance_of_snow\":0,\"vis_km\":10.0,\"vis_miles\":6.0,\"gust_mph\":12.8,\"gust_kph\":20.5,\"uv\":1.0},{\"time_epoch\":1694127600,\"time\":\"2023-09-08 01:00\",\"temp_c\":19.4,\"temp_f\":66.9,\"is_day\":0,\"condition\":{\"text\":\"Clear\",\"icon\":\"//cdn.weatherapi.com/weather/64x64/night/113.png\",\"code\":1000},\"wind_mph\":6.5,\"wind_kph\":10.4,\"wind_degree\":104,\"wind_dir\":\"ESE\",\"pressure_mb\":1023.0,\"pressure_in\":30.2,\"precip_mm\":0.0,\"precip_in\":0.0,\"humidity\":54,\"cloud\":0,\"feelslike_c\":19.4,\"feelslike_f\":66.9,\"windchill_c\":19.4,\"windchill_f\":66.9,\"heatindex_c\":19.4,\"heatindex_f\":66.9,\"dewpoint_c\":10.0,\"dewpoint_f\":50.0,\"will_it_rain\":0,\"chance_of_rain\":0,\"will_it_snow\":0,\"chance_of_snow\":0,\"vis_km\":10.0,\"vis_miles\":6.0,\"gust_mph\":13.4,\"gust_kph\":21.6,\"uv\":1.0},{\"time_epoch\":1694131200,\"time\":\"2023-09-08 02:00\",\"temp_c\":18.9,\"temp_f\":66.0,\"is_day\":0,\"condition\":{\"text\":\"Clear\",\"icon\":\"//cdn.weatherapi.com/weather/64x64/night/113.png\",\"code\":1000},\"wind_mph\":6.5,\"wind_kph\":10.4,\"wind_degree\":104,\"wind_dir\":\"ESE\",\"pressure_mb\":1022.0,\"pressure_in\":30.19,\"precip_mm\":0.0,\"precip_in\":0.0,\"humidity\":56,\"cloud\":0,\"feelslike_c\":18.9,\"feelslike_f\":66.0,\"windchill_c\":18.9,\"windchill_f\":66.0,\"heatindex_c\":18.9,\"heatindex_f\":66.0,\"dewpoint_c\":10.0,\"dewpoint_f\":50.0,\"will_it_rain\":0,\"chance_of_rain\":0,\"will_it_snow\":0,\"chance_of_snow\":0,\"vis_km\":10.0,\"vis_miles\":6.0,\"gust_mph\":13.4,\"gust_kph\":21.6,\"uv\":1.0},{\"time_epoch\":1694134800,\"time\":\"2023-09-08 03:00\",\"temp_c\":18.5,\"temp_f\":65.3,\"is_day\":0,\"condition\":{\"text\":\"Clear\",\"icon\":\"//cdn.weatherapi.com/weather/64x64/night/113.png\",\"code\":1000},\"wind_mph\":6.5,\"wind_kph\":10.4,\"wind_degree\":110,\"wind_dir\":\"ESE\",\"pressure_mb\":1022.0,\"pressure_in\":30.19,\"precip_mm\":0.0,\"precip_in\":0.0,\"humidity\":58,\"cloud\":0,\"feelslike_c\":18.5,\"feelslike_f\":65.3,\"windchill_c\":18.5,\"windchill_f\":65.3,\"heatindex_c\":18.5,\"heatindex_f\":65.3,\"dewpoint_c\":10.1,\"dewpoint_f\":50.2,\"will_it_rain\":0,\"chance_of_rain\":0,\"will_it_snow\":0,\"chance_of_snow\":0,\"vis_km\":10.0,\"vis_miles\":6.0,\"gust_mph\":13.2,\"gust_kph\":21.2,\"uv\":1.0},{\"time_epoch\":1694138400,\"time\":\"2023-09-08 04:00\",\"temp_c\":18.0,\"temp_f\":64.4,\"is_day\":0,\"condition\":{\"text\":\"Clear\",\"icon\":\"//cdn.weatherapi.com/weather/64x64/night/113.png\",\"code\":1000},\"wind_mph\":6.5,\"wind_kph\":10.4,\"wind_degree\":112,\"wind_dir\":\"ESE\",\"pressure_mb\":1022.0,\"pressure_in\":30.18,\"precip_mm\":0.0,\"precip_in\":0.0,\"humidity\":60,\"cloud\":0,\"feelslike_c\":18.0,\"feelslike_f\":64.4,\"windchill_c\":18.0,\"windchill_f\":64.4,\"heatindex_c\":18.0,\"heatindex_f\":64.4,\"dewpoint_c\":10.2,\"dewpoint_f\":50.4,\"will_it_rain\":0,\"chance_of_rain\":0,\"will_it_snow\":0,\"chance_of_snow\":0,\"vis_km\":10.0,\"vis_miles\":6.0,\"gust_mph\":13.4,\"gust_kph\":21.6,\"uv\":1.0},{\"time_epoch\":1694142000,\"time\":\"2023-09-08 05:00\",\"temp_c\":17.6,\"temp_f\":63.7,\"is_day\":0,\"condition\":{\"text\":\"Clear\",\"icon\":\"//cdn.weatherapi.com/weather/64x64/night/113.png\",\"code\":1000},\"wind_mph\":6.5,\"wind_kph\":10.4,\"wind_degree\":111,\"wind_dir\":\"ESE\",\"pressure_mb\":1022.0,\"pressure_in\":30.18,\"precip_mm\":0.0,\"precip_in\":0.0,\"humidity\":62,\"cloud\":0,\"feelslike_c\":17.6,\"feelslike_f\":63.7,\"windchill_c\":17.6,\"windchill_f\":63.7,\"heatindex_c\":17.6,\"heatindex_f\":63.7,\"dewpoint_c\":10.2,\"dewpoint_f\":50.4,\"will_it_rain\":0,\"chance_of_rain\":0,\"will_it_snow\":0,\"chance_of_snow\":0,\"vis_km\":10.0,\"vis_miles\":6.0,\"gust_mph\":13.4,\"gust_kph\":21.6,\"uv\":1.0},{\"time_epoch\":1694145600,\"time\":\"2023-09-08 06:00\",\"temp_c\":17.4,\"temp_f\":63.3,\"is_day\":0,\"condition\":{\"text\":\"Clear\",\"icon\":\"//cdn.weatherapi.com/weather/64x64/night/113.png\",\"code\":1000},\"wind_mph\":6.7,\"wind_kph\":10.8,\"wind_degree\":110,\"wind_dir\":\"ESE\",\"pressure_mb\":1022.0,\"pressure_in\":30.18,\"precip_mm\":0.0,\"precip_in\":0.0,\"humidity\":63,\"cloud\":0,\"feelslike_c\":17.4,\"feelslike_f\":63.3,\"windchill_c\":17.4,\"windchill_f\":63.3,\"heatindex_c\":17.4,\"heatindex_f\":63.3,\"dewpoint_c\":10.3,\"dewpoint_f\":50.5,\"will_it_rain\":0,\"chance_of_rain\":0,\"will_it_snow\":0,\"chance_of_snow\":0,\"vis_km\":10.0,\"vis_miles\":6.0,\"gust_mph\":13.4,\"gust_kph\":21.6,\"uv\":1.0},{\"time_epoch\":1694149200,\"time\":\"2023-09-08 07:00\",\"temp_c\":18.7,\"temp_f\":65.7,\"is_day\":1,\"condition\":{\"text\":\"Sunny\",\"icon\":\"//cdn.weatherapi.com/weather/64x64/day/113.png\",\"code\":1000},\"wind_mph\":7.4,\"wind_kph\":11.9,\"wind_degree\":118,\"wind_dir\":\"ESE\",\"pressure_mb\":1022.0,\"pressure_in\":30.18,\"precip_mm\":0.0,\"precip_in\":0.0,\"humidity\":60,\"cloud\":0,\"feelslike_c\":18.7,\"feelslike_f\":65.7,\"windchill_c\":18.7,\"windchill_f\":65.7,\"heatindex_c\":18.7,\"heatindex_f\":65.7,\"dewpoint_c\":10.7,\"dewpoint_f\":51.3,\"will_it_rain\":0,\"chance_of_rain\":0,\"will_it_snow\":0,\"chance_of_snow\":0,\"vis_km\":10.0,\"vis_miles\":6.0,\"gust_mph\":12.3,\"gust_kph\":19.8,\"uv\":5.0},{\"time_epoch\":1694152800,\"time\":\"2023-09-08 08:00\",\"temp_c\":20.9,\"temp_f\":69.6,\"is_day\":1,\"condition\":{\"text\":\"Sunny\",\"icon\":\"//cdn.weatherapi.com/weather/64x64/day/113.png\",\"code\":1000},\"wind_mph\":8.7,\"wind_kph\":14.0,\"wind_degree\":128,\"wind_dir\":\"SE\",\"pressure_mb\":1022.0,\"pressure_in\":30.18,\"precip_mm\":0.0,\"precip_in\":0.0,\"humidity\":52,\"cloud\":0,\"feelslike_c\":20.9,\"feelslike_f\":69.6,\"windchill_c\":20.9,\"windchill_f\":69.6,\"heatindex_c\":20.9,\"heatindex_f\":69.6,\"dewpoint_c\":10.8,\"dewpoint_f\":51.4,\"will_it_rain\":0,\"chance_of_rain\":0,\"will_it_snow\":0,\"chance_of_snow\":0,\"vis_km\":10.0,\"vis_miles\":6.0,\"gust_mph\":11.4,\"gust_kph\":18.4,\"uv\":6.0},{\"time_epoch\":1694156400,\"time\":\"2023-09-08 09:00\",\"temp_c\":23.3,\"temp_f\":73.9,\"is_day\":1,\"condition\":{\"text\":\"Sunny\",\"icon\":\"//cdn.weatherapi.com/weather/64x64/day/113.png\",\"code\":1000},\"wind_mph\":9.2,\"wind_kph\":14.8,\"wind_degree\":131,\"wind_dir\":\"SE\",\"pressure_mb\":1022.0,\"pressure_in\":30.17,\"precip_mm\":0.0,\"precip_in\":0.0,\"humidity\":46,\"cloud\":0,\"feelslike_c\":24.7,\"feelslike_f\":76.5,\"windchill_c\":23.3,\"windchill_f\":73.9,\"heatindex_c\":24.7,\"heatindex_f\":76.5,\"dewpoint_c\":11.0,\"dewpoint_f\":51.8,\"will_it_rain\":0,\"chance_of_rain\":0,\"will_it_snow\":0,\"chance_of_snow\":0,\"vis_km\":10.0,\"vis_miles\":6.0,\"gust_mph\":10.7,\"gust_kph\":17.3,\"uv\":6.0},{\"time_epoch\":1694160000,\"time\":\"2023-09-08 10:00\",\"temp_c\":25.5,\"temp_f\":77.9,\"is_day\":1,\"condition\":{\"text\":\"Sunny\",\"icon\":\"//cdn.weatherapi.com/weather/64x64/day/113.png\",\"code\":1000},\"wind_mph\":9.4,\"wind_kph\":15.1,\"wind_degree\":130,\"wind_dir\":\"SE\",\"pressure_mb\":1022.0,\"pressure_in\":30.16,\"precip_mm\":0.0,\"precip_in\":0.0,\"humidity\":39,\"cloud\":0,\"feelslike_c\":25.6,\"feelslike_f\":78.1,\"windchill_c\":25.5,\"windchill_f\":77.9,\"heatindex_c\":25.6,\"heatindex_f\":78.1,\"dewpoint_c\":10.6,\"dewpoint_f\":51.1,\"will_it_rain\":0,\"chance_of_rain\":0,\"will_it_snow\":0,\"chance_of_snow\":0,\"vis_km\":10.0,\"vis_miles\":6.0,\"gust_mph\":10.7,\"gust_kph\":17.3,\"uv\":7.0},{\"time_epoch\":1694163600,\"time\":\"2023-09-08 11:00\",\"temp_c\":27.2,\"temp_f\":81.0,\"is_day\":1,\"condition\":{\"text\":\"Sunny\",\"icon\":\"//cdn.weatherapi.com/weather/64x64/day/113.png\",\"code\":1000},\"wind_mph\":9.4,\"wind_kph\":15.1,\"wind_degree\":128,\"wind_dir\":\"SE\",\"pressure_mb\":1021.0,\"pressure_in\":30.15,\"precip_mm\":0.0,\"precip_in\":0.0,\"humidity\":34,\"cloud\":0,\"feelslike_c\":26.6,\"feelslike_f\":79.9,\"windchill_c\":27.2,\"windchill_f\":81.0,\"heatindex_c\":26.6,\"heatindex_f\":79.9,\"dewpoint_c\":9.8,\"dewpoint_f\":49.6,\"will_it_rain\":0,\"chance_of_rain\":0,\"will_it_snow\":0,\"chance_of_snow\":0,\"vis_km\":10.0,\"vis_miles\":6.0,\"gust_mph\":10.7,\"gust_kph\":17.3,\"uv\":7.0},{\"time_epoch\":1694167200,\"time\":\"2023-09-08 12:00\",\"temp_c\":28.4,\"temp_f\":83.1,\"is_day\":1,\"condition\":{\"text\":\"Sunny\",\"icon\":\"//cdn.weatherapi.com/weather/64x64/day/113.png\",\"code\":1000},\"wind_mph\":9.4,\"wind_kph\":15.1,\"wind_degree\":125,\"wind_dir\":\"SE\",\"pressure_mb\":1021.0,\"pressure_in\":30.14,\"precip_mm\":0.0,\"precip_in\":0.0,\"humidity\":30,\"cloud\":0,\"feelslike_c\":27.3,\"feelslike_f\":81.1,\"windchill_c\":28.4,\"windchill_f\":83.1,\"heatindex_c\":27.3,\"heatindex_f\":81.1,\"dewpoint_c\":9.0,\"dewpoint_f\":48.2,\"will_it_rain\":0,\"chance_of_rain\":0,\"will_it_snow\":0,\"chance_of_snow\":0,\"vis_km\":10.0,\"vis_miles\":6.0,\"gust_mph\":10.7,\"gust_kph\":17.3,\"uv\":7.0},{\"time_epoch\":1694170800,\"time\":\"2023-09-08 13:00\",\"temp_c\":29.3,\"temp_f\":84.7,\"is_day\":1,\"condition\":{\"text\":\"Sunny\",\"icon\":\"//cdn.weatherapi.com/weather/64x64/day/113.png\",\"code\":1000},\"wind_mph\":8.7,\"wind_kph\":14.0,\"wind_degree\":124,\"wind_dir\":\"SE\",\"pressure_mb\":1020.0,\"pressure_in\":30.13,\"precip_mm\":0.0,\"precip_in\":0.0,\"humidity\":27,\"cloud\":0,\"feelslike_c\":27.9,\"feelslike_f\":82.2,\"windchill_c\":29.3,\"windchill_f\":84.7,\"heatindex_c\":27.9,\"heatindex_f\":82.2,\"dewpoint_c\":8.4,\"dewpoint_f\":47.1,\"will_it_rain\":0,\"chance_of_rain\":0,\"will_it_snow\":0,\"chance_of_snow\":0,\"vis_km\":10.0,\"vis_miles\":6.0,\"gust_mph\":10.1,\"gust_kph\":16.2,\"uv\":7.0},{\"time_epoch\":1694174400,\"time\":\"2023-09-08 14:00\",\"temp_c\":30.0,\"temp_f\":86.0,\"is_day\":1,\"condition\":{\"text\":\"Sunny\",\"icon\":\"//cdn.weatherapi.com/weather/64x64/day/113.png\",\"code\":1000},\"wind_mph\":8.7,\"wind_kph\":14.0,\"wind_degree\":125,\"wind_dir\":\"SE\",\"pressure_mb\":1020.0,\"pressure_in\":30.12,\"precip_mm\":0.0,\"precip_in\":0.0,\"humidity\":25,\"cloud\":0,\"feelslike_c\":28.4,\"feelslike_f\":83.1,\"windchill_c\":30.0,\"windchill_f\":86.0,\"heatindex_c\":28.4,\"heatindex_f\":83.1,\"dewpoint_c\":8.0,\"dewpoint_f\":46.4,\"will_it_rain\":0,\"chance_of_rain\":0,\"will_it_snow\":0,\"chance_of_snow\":0,\"vis_km\":10.0,\"vis_miles\":6.0,\"gust_mph\":10.1,\"gust_kph\":16.2,\"uv\":8.0},{\"time_epoch\":1694178000,\"time\":\"2023-09-08 15:00\",\"temp_c\":30.2,\"temp_f\":86.4,\"is_day\":1,\"condition\":{\"text\":\"Sunny\",\"icon\":\"//cdn.weatherapi.com/weather/64x64/day/113.png\",\"code\":1000},\"wind_mph\":8.5,\"wind_kph\":13.7,\"wind_degree\":130,\"wind_dir\":\"SE\",\"pressure_mb\":1020.0,\"pressure_in\":30.11,\"precip_mm\":0.0,\"precip_in\":0.0,\"humidity\":24,\"cloud\":0,\"feelslike_c\":28.5,\"feelslike_f\":83.3,\"windchill_c\":30.2,\"windchill_f\":86.4,\"heatindex_c\":28.5,\"heatindex_f\":83.3,\"dewpoint_c\":7.7,\"dewpoint_f\":45.9,\"will_it_rain\":0,\"chance_of_rain\":0,\"will_it_snow\":0,\"chance_of_snow\":0,\"vis_km\":10.0,\"vis_miles\":6.0,\"gust_mph\":9.8,\"gust_kph\":15.8,\"uv\":8.0},{\"time_epoch\":1694181600,\"time\":\"2023-09-08 16:00\",\"temp_c\":30.0,\"temp_f\":86.0,\"is_day\":1,\"condition\":{\"text\":\"Sunny\",\"icon\":\"//cdn.weatherapi.com/weather/64x64/day/113.png\",\"code\":1000},\"wind_mph\":8.1,\"wind_kph\":13.0,\"wind_degree\":134,\"wind_dir\":\"SE\",\"pressure_mb\":1019.0,\"pressure_in\":30.1,\"precip_mm\":0.0,\"precip_in\":0.0,\"humidity\":25,\"cloud\":0,\"feelslike_c\":28.3,\"feelslike_f\":82.9,\"windchill_c\":29.9,\"windchill_f\":85.8,\"heatindex_c\":28.3,\"heatindex_f\":82.9,\"dewpoint_c\":7.8,\"dewpoint_f\":46.0,\"will_it_rain\":0,\"chance_of_rain\":0,\"will_it_snow\":0,\"chance_of_snow\":0,\"vis_km\":10.0,\"vis_miles\":6.0,\"gust_mph\":9.8,\"gust_kph\":15.8,\"uv\":8.0},{\"time_epoch\":1694185200,\"time\":\"2023-09-08 17:00\",\"temp_c\":29.0,\"temp_f\":84.2,\"is_day\":1,\"condition\":{\"text\":\"Sunny\",\"icon\":\"//cdn.weatherapi.com/weather/64x64/day/113.png\",\"code\":1000},\"wind_mph\":7.2,\"wind_kph\":11.5,\"wind_degree\":128,\"wind_dir\":\"SE\",\"pressure_mb\":1019.0,\"pressure_in\":30.09,\"precip_mm\":0.0,\"precip_in\":0.0,\"humidity\":28,\"cloud\":0,\"feelslike_c\":27.7,\"feelslike_f\":81.9,\"windchill_c\":29.0,\"windchill_f\":84.2,\"heatindex_c\":27.7,\"heatindex_f\":81.9,\"dewpoint_c\":8.8,\"dewpoint_f\":47.8,\"will_it_rain\":0,\"chance_of_rain\":0,\"will_it_snow\":0,\"chance_of_snow\":0,\"vis_km\":10.0,\"vis_miles\":6.0,\"gust_mph\":10.3,\"gust_kph\":16.6,\"uv\":7.0},{\"time_epoch\":1694188800,\"time\":\"2023-09-08 18:00\",\"temp_c\":26.9,\"temp_f\":80.4,\"is_day\":1,\"condition\":{\"text\":\"Sunny\",\"icon\":\"//cdn.weatherapi.com/weather/64x64/day/113.png\",\"code\":1000},\"wind_mph\":6.7,\"wind_kph\":10.8,\"wind_degree\":118,\"wind_dir\":\"ESE\",\"pressure_mb\":1019.0,\"pressure_in\":30.09,\"precip_mm\":0.0,\"precip_in\":0.0,\"humidity\":34,\"cloud\":0,\"feelslike_c\":26.3,\"feelslike_f\":79.3,\"windchill_c\":26.9,\"windchill_f\":80.4,\"heatindex_c\":26.3,\"heatindex_f\":79.3,\"dewpoint_c\":9.6,\"dewpoint_f\":49.3,\"will_it_rain\":0,\"chance_of_rain\":0,\"will_it_snow\":0,\"chance_of_snow\":0,\"vis_km\":10.0,\"vis_miles\":6.0,\"gust_mph\":12.3,\"gust_kph\":19.8,\"uv\":7.0},{\"time_epoch\":1694192400,\"time\":\"2023-09-08 19:00\",\"temp_c\":24.8,\"temp_f\":76.6,\"is_day\":1,\"condition\":{\"text\":\"Sunny\",\"icon\":\"//cdn.weatherapi.com/weather/64x64/day/113.png\",\"code\":1000},\"wind_mph\":7.2,\"wind_kph\":11.5,\"wind_degree\":116,\"wind_dir\":\"ESE\",\"pressure_mb\":1020.0,\"pressure_in\":30.11,\"precip_mm\":0.0,\"precip_in\":0.0,\"humidity\":39,\"cloud\":0,\"feelslike_c\":25.1,\"feelslike_f\":77.2,\"windchill_c\":24.8,\"windchill_f\":76.6,\"heatindex_c\":25.1,\"heatindex_f\":77.2,\"dewpoint_c\":9.7,\"dewpoint_f\":49.5,\"will_it_rain\":0,\"chance_of_rain\":0,\"will_it_snow\":0,\"chance_of_snow\":0,\"vis_km\":10.0,\"vis_miles\":6.0,\"gust_mph\":15.0,\"gust_kph\":24.1,\"uv\":6.0},{\"time_epoch\":1694196000,\"time\":\"2023-09-08 20:00\",\"temp_c\":23.6,\"temp_f\":74.5,\"is_day\":0,\"condition\":{\"text\":\"Clear\",\"icon\":\"//cdn.weatherapi.com/weather/64x64/night/113.png\",\"code\":1000},\"wind_mph\":7.2,\"wind_kph\":11.5,\"wind_degree\":119,\"wind_dir\":\"ESE\",\"pressure_mb\":1020.0,\"pressure_in\":30.11,\"precip_mm\":0.0,\"precip_in\":0.0,\"humidity\":42,\"cloud\":0,\"feelslike_c\":24.7,\"feelslike_f\":76.5,\"windchill_c\":23.6,\"windchill_f\":74.5,\"heatindex_c\":24.7,\"heatindex_f\":76.5,\"dewpoint_c\":9.9,\"dewpoint_f\":49.8,\"will_it_rain\":0,\"chance_of_rain\":0,\"will_it_snow\":0,\"chance_of_snow\":0,\"vis_km\":10.0,\"vis_miles\":6.0,\"gust_mph\":15.0,\"gust_kph\":24.1,\"uv\":1.0},{\"time_epoch\":1694199600,\"time\":\"2023-09-08 21:00\",\"temp_c\":22.6,\"temp_f\":72.7,\"is_day\":0,\"condition\":{\"text\":\"Clear\",\"icon\":\"//cdn.weatherapi.com/weather/64x64/night/113.png\",\"code\":1000},\"wind_mph\":6.9,\"wind_kph\":11.2,\"wind_degree\":123,\"wind_dir\":\"ESE\",\"pressure_mb\":1020.0,\"pressure_in\":30.11,\"precip_mm\":0.0,\"precip_in\":0.0,\"humidity\":45,\"cloud\":0,\"feelslike_c\":24.4,\"feelslike_f\":75.9,\"windchill_c\":22.6,\"windchill_f\":72.7,\"heatindex_c\":24.4,\"heatindex_f\":75.9,\"dewpoint_c\":10.1,\"dewpoint_f\":50.2,\"will_it_rain\":0,\"chance_of_rain\":0,\"will_it_snow\":0,\"chance_of_snow\":0,\"vis_km\":10.0,\"vis_miles\":6.0,\"gust_mph\":14.3,\"gust_kph\":23.0,\"uv\":1.0},{\"time_epoch\":1694203200,\"time\":\"2023-09-08 22:00\",\"temp_c\":21.8,\"temp_f\":71.2,\"is_day\":0,\"condition\":{\"text\":\"Clear\",\"icon\":\"//cdn.weatherapi.com/weather/64x64/night/113.png\",\"code\":1000},\"wind_mph\":6.7,\"wind_kph\":10.8,\"wind_degree\":128,\"wind_dir\":\"SE\",\"pressure_mb\":1020.0,\"pressure_in\":30.12,\"precip_mm\":0.0,\"precip_in\":0.0,\"humidity\":48,\"cloud\":0,\"feelslike_c\":21.8,\"feelslike_f\":71.2,\"windchill_c\":21.8,\"windchill_f\":71.2,\"heatindex_c\":24.3,\"heatindex_f\":75.7,\"dewpoint_c\":10.2,\"dewpoint_f\":50.4,\"will_it_rain\":0,\"chance_of_rain\":0,\"will_it_snow\":0,\"chance_of_snow\":0,\"vis_km\":10.0,\"vis_miles\":6.0,\"gust_mph\":13.9,\"gust_kph\":22.3,\"uv\":1.0},{\"time_epoch\":1694206800,\"time\":\"2023-09-08 23:00\",\"temp_c\":21.1,\"temp_f\":70.0,\"is_day\":0,\"condition\":{\"text\":\"Clear\",\"icon\":\"//cdn.weatherapi.com/weather/64x64/night/113.png\",\"code\":1000},\"wind_mph\":6.5,\"wind_kph\":10.4,\"wind_degree\":132,\"wind_dir\":\"SE\",\"pressure_mb\":1020.0,\"pressure_in\":30.11,\"precip_mm\":0.0,\"precip_in\":0.0,\"humidity\":50,\"cloud\":0,\"feelslike_c\":21.1,\"feelslike_f\":70.0,\"windchill_c\":21.1,\"windchill_f\":70.0,\"heatindex_c\":24.3,\"heatindex_f\":75.7,\"dewpoint_c\":10.4,\"dewpoint_f\":50.7,\"will_it_rain\":0,\"chance_of_rain\":0,\"will_it_snow\":0,\"chance_of_snow\":0,\"vis_km\":10.0,\"vis_miles\":6.0,\"gust_mph\":13.4,\"gust_kph\":21.6,\"uv\":1.0}]}]}}\n"
          ]
        }
      ]
    },
    {
      "cell_type": "code",
      "source": [
        "import pandas as pd\n",
        "import requests\n",
        "\n",
        "# API request\n",
        "url = \"https://weatherapi-com.p.rapidapi.com/history.json\"\n",
        "querystring = {\"q\": \"berlin,de,london,uk,barcelona,sp\", \"dt\": \"2023-09-06\", \"lang\": \"en\", \"end_dt\": \"2023-09-12\"}\n",
        "headers = {\n",
        "    \"X-RapidAPI-Key\": \"0beff9c74fmsh564a8801fa6e375p1c7a7ajsn744762d8242e\",\n",
        "    \"X-RapidAPI-Host\": \"weatherapi-com.p.rapidapi.com\"\n",
        "}\n",
        "response = requests.request(\"GET\", url, headers=headers, params=querystring)\n",
        "\n",
        "# Extract relevant data\n",
        "data = response.json()\n",
        "\n",
        "location = data[\"location\"]\n",
        "forecastdays = data[\"forecast\"][\"forecastday\"]\n",
        "\n",
        "# Create lists to store data\n",
        "dates = []\n",
        "max_temp_c = []\n",
        "max_temp_f = []\n",
        "min_temp_c = []\n",
        "min_temp_f = []\n",
        "avg_temp_c = []\n",
        "avg_temp_f = []\n",
        "condition_text = []\n",
        "\n",
        "# Loop through forecast days\n",
        "for day in forecastdays:\n",
        "    date = day[\"date\"]\n",
        "    day_data = day[\"day\"]\n",
        "    condition = day_data[\"condition\"]\n",
        "\n",
        "    dates.append(date)\n",
        "    max_temp_c.append(day_data[\"maxtemp_c\"])\n",
        "    max_temp_f.append(day_data[\"maxtemp_f\"])\n",
        "    min_temp_c.append(day_data[\"mintemp_c\"])\n",
        "    min_temp_f.append(day_data[\"mintemp_f\"])\n",
        "    avg_temp_c.append(day_data[\"avgtemp_c\"])\n",
        "    avg_temp_f.append(day_data[\"avgtemp_f\"])\n",
        "    condition_text.append(condition[\"text\"])\n",
        "\n",
        "# Create a DataFrame\n",
        "weather_df = pd.DataFrame({\n",
        "    \"Date\": dates,\n",
        "    \"MaxTemp_C\": max_temp_c,\n",
        "    \"MaxTemp_F\": max_temp_f,\n",
        "    \"MinTemp_C\": min_temp_c,\n",
        "    \"MinTemp_F\": min_temp_f,\n",
        "    \"AvgTemp_C\": avg_temp_c,\n",
        "    \"AvgTemp_F\": avg_temp_f,\n",
        "    \"Condition\": condition_text\n",
        "})\n",
        "\n",
        "# Print the DataFrame\n",
        "print(weather_df)\n"
      ],
      "metadata": {
        "colab": {
          "base_uri": "https://localhost:8080/"
        },
        "id": "tVVey6R14dWP",
        "outputId": "e0a149c6-9419-4095-d5f9-9405f64410e4"
      },
      "execution_count": 5,
      "outputs": [
        {
          "output_type": "stream",
          "name": "stdout",
          "text": [
            "         Date  MaxTemp_C  MaxTemp_F  MinTemp_C  MinTemp_F  AvgTemp_C  \\\n",
            "0  2023-09-06       29.4       84.9       17.4       63.3       23.1   \n",
            "1  2023-09-07       29.5       85.1       17.5       63.5       23.2   \n",
            "2  2023-09-08       30.2       86.4       17.4       63.3       23.5   \n",
            "\n",
            "   AvgTemp_F Condition  \n",
            "0       73.6     Sunny  \n",
            "1       73.7     Sunny  \n",
            "2       74.2     Sunny  \n"
          ]
        }
      ]
    }
  ]
}